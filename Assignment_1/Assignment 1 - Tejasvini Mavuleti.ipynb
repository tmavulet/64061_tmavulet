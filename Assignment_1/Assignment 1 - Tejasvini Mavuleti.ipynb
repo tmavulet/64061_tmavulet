{
  "cells": [
    {
      "cell_type": "markdown",
      "id": "c5456e02",
      "metadata": {
        "id": "c5456e02"
      },
      "source": [
        "**MIS 64061 - Assignment 01 - Neural Networks**\n",
        "Tejasvini Mavuleti - 10/02/2022\n",
        "\n",
        "\n",
        "---\n",
        "Abstract\n",
        "\n",
        "In this assignment we are going to look at the IMBD dataset which has 50,000 reviews from the Internet Movie Database. We split them into 25,000 reviews for training and 25,000 reviews for testing, each set consisting in 50% negative and 50% positive reviews.\n",
        "\n",
        "Also, this dataset has an inbuilt package Keras. It has been preprocessed: the reviews that are the sequences of words which have been turned into sequences of integers, where each integer stands for a specific word in a dictionary. \n",
        "\n",
        "\n",
        "---\n",
        "Summary - we saw that  \n",
        "\n",
        "1. When 2 hidden layers are used with 16 neurons in each layer: The accuracy of the training set and validation keeps increasing until 6 epochs, and after that, the training accuracy keeps increasing, whereas the validation accuracy keeps decreasing, which means that the model starts overfitting. So, we trained the model again with 6 epochs and applied the model to the test set to achieve the maximum accuracy of 87.71%\n",
        "\n",
        "2. When 1 or 3 hidden layers are used instead of 2 hidden layers without changing any other hyperparameters: There is a very minute change in validation and test accuracy, but no particular trend is observed. We found that increasing the number of hidden layers from 1 to 3 had no effect on loss function accuracy or deflection. So, the data on which the model is implemented achieved saturation in accuracy in the very beginning, i.e., at the first layer, and no further increase in accuracy is possible for the given data set.\n",
        "\n",
        "3. When we kept increasing the no. of neurons in each layer: We kept increasing the No. of hidden units in each layer to 32, 64, 128, 256, and 512 without changing any other hyperparameters. The Validation accuracy kept increasing with the addition of neurons in the hidden layers, whereas no improvement was observed in Test accuracy. This means we are tuning the hyperparameters to improve the validation accuracy. Still, no other generalization is observed from the model as the Test accuracy is not improving.\n",
        "\n",
        "4. When the MSE loss function is used instead of binary-cross-entropy: There is a very minute decrease (about 0.5%) in both Validation and Test accuracy which means Binary cross_entropy is better compared to the MSE loss function for the given dataset.This shows that when MSE is used as the loss function for the IMDB dataset, the loss value is minimal when compared to binary cross entropy.\n",
        "\n",
        "5. When the activation function is used instead of relu: There is a very slight decrease in Validation accuracy, whereas no change is observed in the Test accuracy. This lowers performance and vanishes the gradient problem.\n",
        "\n",
        "There is one point of stop here; from the above observations, we can infer that the Activation function relu and Loss function Binary cross-entropy are the best hyperparameters for the given dataset.\n",
        "\n",
        "When we tried to regularize the model using the dropout technique: No change in Validation and Test accuracy was used though the maximum value (p=1) was used in the model. The dropout also helps in getting a smaller loss function but has no effect on accuracy. So, dropout is not adding any advantage in generalizing the model for the given data. \n",
        "\n",
        "But when the learning rate is changed to 0.01 from 0.001 while using the dropout optimizer, we can achieve the maximum validation and Test accuracy at 99 epochs. After this, the model starts overfitting.\n",
        "\n",
        "**Conclusion**: By using different hyperparameters like different no. of hidden layers, number of neurons in each layer, changing the loss functions, changing the optimizers, and using the regularization technique dropout, the maximum Test accuracy is almost the same.\n"
      ]
    },
    {
      "cell_type": "code",
      "execution_count": 12,
      "id": "44151367",
      "metadata": {
        "id": "44151367"
      },
      "outputs": [],
      "source": [
        "# Importing the data and taking only 10,000 most frequently words from the total words of 85,000.\n",
        "\n",
        "from keras.datasets import imdb\n",
        "\n",
        "(train_data, train_labels), (test_data, test_labels) = imdb.load_data(num_words=10000)"
      ]
    },
    {
      "cell_type": "markdown",
      "id": "0e40de1f",
      "metadata": {
        "id": "0e40de1f"
      },
      "source": [
        "The variables train_data and test_data are lists of reviews, each review being a list of word indices (encoding a sequence of words). train_labels and test_labels are lists of 0s and 1s, where 0 stands for \"negative\" and 1 stands for \"positive\":"
      ]
    },
    {
      "cell_type": "code",
      "execution_count": 13,
      "id": "de206cfd",
      "metadata": {
        "id": "de206cfd",
        "outputId": "88819f63-a8b7-46ec-d98e-fb5b9d2938da",
        "colab": {
          "base_uri": "https://localhost:8080/"
        }
      },
      "outputs": [
        {
          "output_type": "execute_result",
          "data": {
            "text/plain": [
              "[1,\n",
              " 1230,\n",
              " 5329,\n",
              " 299,\n",
              " 2130,\n",
              " 2733,\n",
              " 3994,\n",
              " 7073,\n",
              " 1697,\n",
              " 5,\n",
              " 4327,\n",
              " 686,\n",
              " 336,\n",
              " 8,\n",
              " 289,\n",
              " 539,\n",
              " 33,\n",
              " 6,\n",
              " 1058,\n",
              " 223,\n",
              " 2,\n",
              " 2130,\n",
              " 892,\n",
              " 27,\n",
              " 404,\n",
              " 255,\n",
              " 64,\n",
              " 8,\n",
              " 169,\n",
              " 46,\n",
              " 15,\n",
              " 59,\n",
              " 9,\n",
              " 11,\n",
              " 6,\n",
              " 649,\n",
              " 19,\n",
              " 27,\n",
              " 597,\n",
              " 10,\n",
              " 10,\n",
              " 803,\n",
              " 6,\n",
              " 132,\n",
              " 8,\n",
              " 81,\n",
              " 10,\n",
              " 10,\n",
              " 13,\n",
              " 247,\n",
              " 423,\n",
              " 2130,\n",
              " 11,\n",
              " 147,\n",
              " 113,\n",
              " 21,\n",
              " 13,\n",
              " 62,\n",
              " 838,\n",
              " 4,\n",
              " 1023,\n",
              " 42,\n",
              " 900,\n",
              " 7,\n",
              " 14,\n",
              " 509,\n",
              " 9,\n",
              " 170,\n",
              " 8,\n",
              " 30,\n",
              " 180,\n",
              " 8,\n",
              " 726,\n",
              " 25,\n",
              " 26,\n",
              " 1688,\n",
              " 8,\n",
              " 1779,\n",
              " 1230,\n",
              " 5329,\n",
              " 395,\n",
              " 6,\n",
              " 173,\n",
              " 2375,\n",
              " 730,\n",
              " 5,\n",
              " 6075,\n",
              " 247,\n",
              " 74,\n",
              " 170,\n",
              " 143,\n",
              " 4,\n",
              " 3826,\n",
              " 212,\n",
              " 1102,\n",
              " 15,\n",
              " 28,\n",
              " 93,\n",
              " 90,\n",
              " 38,\n",
              " 1112,\n",
              " 48,\n",
              " 25,\n",
              " 566,\n",
              " 1779,\n",
              " 12,\n",
              " 1092,\n",
              " 24,\n",
              " 79,\n",
              " 1393,\n",
              " 80,\n",
              " 30,\n",
              " 367,\n",
              " 303,\n",
              " 11,\n",
              " 4,\n",
              " 291,\n",
              " 21,\n",
              " 18,\n",
              " 4,\n",
              " 1853,\n",
              " 13,\n",
              " 197,\n",
              " 29,\n",
              " 16,\n",
              " 55,\n",
              " 52,\n",
              " 10,\n",
              " 10,\n",
              " 2130,\n",
              " 11,\n",
              " 147,\n",
              " 113,\n",
              " 517,\n",
              " 125,\n",
              " 40,\n",
              " 129,\n",
              " 801,\n",
              " 5827,\n",
              " 1139,\n",
              " 223,\n",
              " 453,\n",
              " 21,\n",
              " 12,\n",
              " 214,\n",
              " 2805,\n",
              " 5,\n",
              " 2805,\n",
              " 17,\n",
              " 12,\n",
              " 271,\n",
              " 367,\n",
              " 5,\n",
              " 2,\n",
              " 4185,\n",
              " 19,\n",
              " 27,\n",
              " 904,\n",
              " 3418,\n",
              " 45,\n",
              " 24,\n",
              " 2,\n",
              " 204,\n",
              " 21,\n",
              " 48,\n",
              " 25,\n",
              " 64,\n",
              " 219,\n",
              " 102,\n",
              " 19,\n",
              " 204,\n",
              " 1008,\n",
              " 1360,\n",
              " 2,\n",
              " 62,\n",
              " 30,\n",
              " 55,\n",
              " 2,\n",
              " 849,\n",
              " 586,\n",
              " 36,\n",
              " 21,\n",
              " 2130,\n",
              " 11,\n",
              " 147,\n",
              " 113,\n",
              " 9,\n",
              " 441,\n",
              " 5,\n",
              " 6,\n",
              " 52,\n",
              " 177,\n",
              " 37,\n",
              " 586,\n",
              " 809,\n",
              " 11,\n",
              " 119,\n",
              " 33,\n",
              " 86,\n",
              " 1682,\n",
              " 19,\n",
              " 4,\n",
              " 2,\n",
              " 6696,\n",
              " 2,\n",
              " 97,\n",
              " 4,\n",
              " 91,\n",
              " 7,\n",
              " 35,\n",
              " 5944,\n",
              " 195,\n",
              " 229,\n",
              " 15,\n",
              " 1367,\n",
              " 111,\n",
              " 6,\n",
              " 2,\n",
              " 23,\n",
              " 4,\n",
              " 1217,\n",
              " 5,\n",
              " 1797,\n",
              " 7,\n",
              " 119,\n",
              " 10,\n",
              " 10,\n",
              " 13,\n",
              " 440,\n",
              " 15,\n",
              " 1230,\n",
              " 5329,\n",
              " 6961,\n",
              " 309,\n",
              " 5,\n",
              " 127,\n",
              " 142,\n",
              " 17,\n",
              " 221,\n",
              " 174]"
            ]
          },
          "metadata": {},
          "execution_count": 13
        }
      ],
      "source": [
        "# Let's see one of the reviews from training data which is in the form of an array of digits.\n",
        "\n",
        "train_data[179]"
      ]
    },
    {
      "cell_type": "code",
      "execution_count": 14,
      "id": "db911700",
      "metadata": {
        "id": "db911700",
        "outputId": "e4f37336-a3db-4c8f-8188-556d16ec190a",
        "colab": {
          "base_uri": "https://localhost:8080/"
        }
      },
      "outputs": [
        {
          "output_type": "execute_result",
          "data": {
            "text/plain": [
              "1"
            ]
          },
          "metadata": {},
          "execution_count": 14
        }
      ],
      "source": [
        "# Let's see the label of the above review.\n",
        "train_labels[179]\n"
      ]
    },
    {
      "cell_type": "markdown",
      "source": [
        "The review is positive"
      ],
      "metadata": {
        "id": "mHiYyHM024Cr"
      },
      "id": "mHiYyHM024Cr"
    },
    {
      "cell_type": "code",
      "execution_count": null,
      "id": "8171cb74",
      "metadata": {
        "id": "8171cb74",
        "outputId": "bdde9f81-5ee2-444d-fb67-9279945d6ce4"
      },
      "outputs": [
        {
          "data": {
            "text/plain": [
              "9999"
            ]
          },
          "execution_count": 4,
          "metadata": {},
          "output_type": "execute_result"
        }
      ],
      "source": [
        "# Because we restricted ourselves to the top 10,000 most frequent words among 85,500 words availabele, the word limit will not exceed 10,000\n",
        "\n",
        "max([max(sequence) for sequence in train_data])"
      ]
    },
    {
      "cell_type": "code",
      "execution_count": 15,
      "id": "687dc1ff",
      "metadata": {
        "id": "687dc1ff"
      },
      "outputs": [],
      "source": [
        "# Decode one of these reviews back to english words as in a dictionary and map words to an integer index\n",
        "word_index = imdb.get_word_index()\n",
        "\n",
        "# Then reverse it, mapping integers to words\n",
        "reverse_word_index = dict([(value, key) for (key, value) in word_index.items()])\n",
        "\n",
        "# We decode the review; note that our indices were offset by 3 because 0, 1 and 2 are reserved indices for padding, start of sequence, and unknown.\n",
        "decoded_review = ' '.join([reverse_word_index.get(i - 3, '?') for i in train_data[179]])"
      ]
    },
    {
      "cell_type": "code",
      "execution_count": null,
      "id": "fb20cd4d",
      "metadata": {
        "id": "fb20cd4d",
        "outputId": "6f45c775-36b4-4663-9297-ec2a8c17a0ed"
      },
      "outputs": [
        {
          "data": {
            "text/plain": [
              "\"? i also having endured hundreds of children's movies in the past consider this to be one of the worst i have ever seen br br 1 i ? in this day and age having to explain to my children that russia is not the bad guys also that mocking russian names like ? is inappropriate br br 2 the grandfather ? birthday party scene contained a quasi sexist joke in which he implied that males drink beer and women talk on the phone two other flies also needlessly use the word crap twice br br 3 the whole movie largely ? of 1950's stereotypes and propaganda that i thought we as a nation were proud to have ? above br br in all it's just crude badly animated even more badly written and not worth wasting the time to view\""
            ]
          },
          "execution_count": 6,
          "metadata": {},
          "output_type": "execute_result"
        }
      ],
      "source": [
        "decoded_review\n",
        "\n",
        "# We saw that this was a Negative review as it was labeled as '0' and I'm sure that it's labeled correctly after going through the decoded review as below.Lol"
      ]
    },
    {
      "cell_type": "markdown",
      "source": [
        "DATA PREPARATION"
      ],
      "metadata": {
        "id": "9xhC8xoS3XuV"
      },
      "id": "9xhC8xoS3XuV"
    },
    {
      "cell_type": "markdown",
      "id": "9863340f",
      "metadata": {
        "id": "9863340f"
      },
      "source": [
        "We cannot feed lists of integers into a neural network. We have to turn our lists into tensors. We could pad our lists so that they all have the same length, and turn them into an integer tensor of shape (samples, word_indices), then use as first layer in our network a layer capable of handling such integer tensors (the Embedding layer )\n",
        "\n",
        "We could one-hot-encode our lists to turn them into vectors of 0s and 1s. Concretely, this would mean for instance turning the sequence [3, 5] into a 10,000-dimensional vector that would be all-zeros except for indices 3 and 5, which would be ones. Then we could use as first layer in our network a Dense layer, capable of handling floating point vector data."
      ]
    },
    {
      "cell_type": "code",
      "execution_count": null,
      "id": "45ed817f",
      "metadata": {
        "id": "45ed817f"
      },
      "outputs": [],
      "source": [
        "import numpy as np\n",
        "\n",
        "def vectorize_sequences(sequences, dimension=10000):\n",
        "    # Create an all-zero matrix of shape (len(sequences), dimension)\n",
        "    results = np.zeros((len(sequences), dimension))\n",
        "    for i, sequence in enumerate(sequences):\n",
        "        results[i, sequence] = 1.  # set specific indices of results[i] to 1s\n",
        "    return results\n",
        "\n",
        "# Our vectorized training data\n",
        "x_train = vectorize_sequences(train_data)\n",
        "# Our vectorized test data\n",
        "x_test = vectorize_sequences(test_data)"
      ]
    },
    {
      "cell_type": "code",
      "execution_count": null,
      "id": "f1b52f59",
      "metadata": {
        "id": "f1b52f59",
        "outputId": "49421d3c-7fa0-45e4-9735-0b71efa0477b"
      },
      "outputs": [
        {
          "data": {
            "text/plain": [
              "array([0., 1., 1., ..., 0., 0., 0.])"
            ]
          },
          "execution_count": 8,
          "metadata": {},
          "output_type": "execute_result"
        }
      ],
      "source": [
        "# Let's see a reveiw that is one-hot-encoded\n",
        "\n",
        "x_train[121]"
      ]
    },
    {
      "cell_type": "code",
      "execution_count": null,
      "id": "3e97de2c",
      "metadata": {
        "id": "3e97de2c"
      },
      "outputs": [],
      "source": [
        "# Vectorizing the labels\n",
        "\n",
        "y_train = np.asarray(train_labels).astype('float32')\n",
        "y_test = np.asarray(test_labels).astype('float32')"
      ]
    },
    {
      "cell_type": "markdown",
      "id": "0a67eb4c",
      "metadata": {
        "id": "0a67eb4c"
      },
      "source": [
        "In the input data, we only have vectors, and our labels are scalars (1s and 0s). A type of network that performs well on such a problem would be a simple stack of fully-connected (Dense) layers with relu activations: Dense(16, activation='relu') Having 16 hidden units means that the weight matrix W will have shape (input_dimension, 16), i.e., the dot product with W will project the input data onto a 16-dimensional representation space (and then we would add the bias vector b and apply the relu operation).\n",
        "\n",
        "We can intuitively understand the dimensionality of our representation space and how much freedom we allow the network to have when learning internal representations. More hidden units (a higher-dimensional representation space) enable our network to learn more complex representations. Still, it makes your network more computationally expensive and may lead to learning unwanted patterns (patterns that will improve performance on the training data but not on the test data).\n",
        "\n",
        "\n"
      ]
    },
    {
      "cell_type": "code",
      "execution_count": null,
      "id": "efe6b968",
      "metadata": {
        "id": "efe6b968"
      },
      "outputs": [],
      "source": [
        "from keras import models\n",
        "from tensorflow.keras import layers\n",
        "\n",
        "model = models.Sequential()\n",
        "model.add(layers.Dense(16, activation='relu', input_shape=(10000,)))\n",
        "model.add(layers.Dense(16, activation='relu'))\n",
        "model.add(layers.Dense(1, activation='sigmoid'))"
      ]
    },
    {
      "cell_type": "markdown",
      "source": [
        "LOSS FUNCTION"
      ],
      "metadata": {
        "id": "Roeow4WI3xht"
      },
      "id": "Roeow4WI3xht"
    },
    {
      "cell_type": "markdown",
      "source": [
        "Since we are facing a binary classification problem and the output of our network is a probability we end our network with a single-unit layer with a sigmoid activation, is it best to use the binary_crossentropy loss?\n",
        "\n",
        "Of course, it isn't the only viable choice: you could use, for instance, MSE. But cross-entropy is usually the best choice when dealing with models that output probabilities. Cross entropy is a quantity from the Information Theory field that measures the \"distance\" between probability distributions, or in our case, between the ground-truth distribution and our predictions."
      ],
      "metadata": {
        "id": "wBabQQsP33nK"
      },
      "id": "wBabQQsP33nK"
    },
    {
      "cell_type": "code",
      "execution_count": null,
      "id": "6253c7a4",
      "metadata": {
        "id": "6253c7a4"
      },
      "outputs": [],
      "source": [
        "\n",
        "\n",
        "model.compile(optimizer='rmsprop',\n",
        "              loss='binary_crossentropy',\n",
        "              metrics=['accuracy'])"
      ]
    },
    {
      "cell_type": "code",
      "execution_count": null,
      "id": "aa0f8d64",
      "metadata": {
        "id": "aa0f8d64"
      },
      "outputs": [],
      "source": [
        "\n",
        "from keras import optimizers\n",
        "from keras import losses\n",
        "from keras import metrics\n",
        "\n",
        "from tensorflow import keras\n",
        "from keras import optimizers\n",
        "from tensorflow.keras import optimizers\n",
        "from tensorflow.keras import optimizers\n",
        "\n",
        "model.compile(optimizer=optimizers.RMSprop(learning_rate=0.001),\n",
        "              loss = losses.binary_crossentropy,\n",
        "              metrics = [metrics.binary_accuracy])\n"
      ]
    },
    {
      "cell_type": "markdown",
      "id": "0b74d99e",
      "metadata": {
        "id": "0b74d99e"
      },
      "source": [
        "Validating our approach\n",
        "In order to monitor during training the accuracy of the model on data that it has never seen before, we will create a \"validation set\" by setting apart 10,000 samples from the original training data:"
      ]
    },
    {
      "cell_type": "code",
      "execution_count": null,
      "id": "0f222260",
      "metadata": {
        "id": "0f222260"
      },
      "outputs": [],
      "source": [
        "x_val = x_train[:10000]\n",
        "partial_x_train = x_train[10000:]\n",
        "\n",
        "y_val = y_train[:10000]\n",
        "partial_y_train = y_train[10000:]"
      ]
    },
    {
      "cell_type": "markdown",
      "id": "fb7173a6",
      "metadata": {
        "id": "fb7173a6"
      },
      "source": [
        "We will now train our model for 20 epochs (20 iterations over all samples in the x_train and y_train tensors), in mini-batches of 512 samples. At this same time we will monitor loss and accuracy on the 10,000 samples that we set apart. This is done by passing the validation data as the validation_data argument:"
      ]
    },
    {
      "cell_type": "code",
      "execution_count": null,
      "id": "784ab4be",
      "metadata": {
        "id": "784ab4be",
        "outputId": "a0b2d52c-c69e-455d-da1a-6bcef0b75520"
      },
      "outputs": [
        {
          "name": "stdout",
          "output_type": "stream",
          "text": [
            "Epoch 1/20\n",
            "30/30 [==============================] - 5s 131ms/step - loss: 0.4964 - binary_accuracy: 0.8016 - val_loss: 0.3715 - val_binary_accuracy: 0.8721\n",
            "Epoch 2/20\n",
            "30/30 [==============================] - 1s 27ms/step - loss: 0.2990 - binary_accuracy: 0.9033 - val_loss: 0.2984 - val_binary_accuracy: 0.8892\n",
            "Epoch 3/20\n",
            "30/30 [==============================] - 1s 27ms/step - loss: 0.2181 - binary_accuracy: 0.9301 - val_loss: 0.2890 - val_binary_accuracy: 0.8859\n",
            "Epoch 4/20\n",
            "30/30 [==============================] - 1s 25ms/step - loss: 0.1700 - binary_accuracy: 0.9466 - val_loss: 0.2860 - val_binary_accuracy: 0.8856\n",
            "Epoch 5/20\n",
            "30/30 [==============================] - 1s 25ms/step - loss: 0.1365 - binary_accuracy: 0.9581 - val_loss: 0.2842 - val_binary_accuracy: 0.8884\n",
            "Epoch 6/20\n",
            "30/30 [==============================] - 1s 26ms/step - loss: 0.1138 - binary_accuracy: 0.9646 - val_loss: 0.3078 - val_binary_accuracy: 0.8819\n",
            "Epoch 7/20\n",
            "30/30 [==============================] - 1s 26ms/step - loss: 0.0915 - binary_accuracy: 0.9740 - val_loss: 0.3338 - val_binary_accuracy: 0.8786\n",
            "Epoch 8/20\n",
            "30/30 [==============================] - 1s 26ms/step - loss: 0.0773 - binary_accuracy: 0.9781 - val_loss: 0.3336 - val_binary_accuracy: 0.8827\n",
            "Epoch 9/20\n",
            "30/30 [==============================] - 1s 26ms/step - loss: 0.0593 - binary_accuracy: 0.9853 - val_loss: 0.3939 - val_binary_accuracy: 0.8715\n",
            "Epoch 10/20\n",
            "30/30 [==============================] - 1s 27ms/step - loss: 0.0493 - binary_accuracy: 0.9884 - val_loss: 0.4199 - val_binary_accuracy: 0.8676\n",
            "Epoch 11/20\n",
            "30/30 [==============================] - 1s 26ms/step - loss: 0.0371 - binary_accuracy: 0.9925 - val_loss: 0.4177 - val_binary_accuracy: 0.8780\n",
            "Epoch 12/20\n",
            "30/30 [==============================] - 1s 27ms/step - loss: 0.0295 - binary_accuracy: 0.9945 - val_loss: 0.5042 - val_binary_accuracy: 0.8610\n",
            "Epoch 13/20\n",
            "30/30 [==============================] - 1s 26ms/step - loss: 0.0187 - binary_accuracy: 0.9979 - val_loss: 0.4814 - val_binary_accuracy: 0.8753\n",
            "Epoch 14/20\n",
            "30/30 [==============================] - 1s 26ms/step - loss: 0.0169 - binary_accuracy: 0.9979 - val_loss: 0.5162 - val_binary_accuracy: 0.8721\n",
            "Epoch 15/20\n",
            "30/30 [==============================] - 1s 27ms/step - loss: 0.0172 - binary_accuracy: 0.9958 - val_loss: 0.5472 - val_binary_accuracy: 0.8728\n",
            "Epoch 16/20\n",
            "30/30 [==============================] - 1s 26ms/step - loss: 0.0070 - binary_accuracy: 0.9997 - val_loss: 0.5796 - val_binary_accuracy: 0.8715\n",
            "Epoch 17/20\n",
            "30/30 [==============================] - 1s 26ms/step - loss: 0.0104 - binary_accuracy: 0.9981 - val_loss: 0.6160 - val_binary_accuracy: 0.8682\n",
            "Epoch 18/20\n",
            "30/30 [==============================] - 1s 25ms/step - loss: 0.0040 - binary_accuracy: 0.9998 - val_loss: 0.6618 - val_binary_accuracy: 0.8643\n",
            "Epoch 19/20\n",
            "30/30 [==============================] - 1s 25ms/step - loss: 0.0060 - binary_accuracy: 0.9990 - val_loss: 0.6815 - val_binary_accuracy: 0.8695\n",
            "Epoch 20/20\n",
            "30/30 [==============================] - 1s 25ms/step - loss: 0.0021 - binary_accuracy: 0.9999 - val_loss: 0.7204 - val_binary_accuracy: 0.8679\n"
          ]
        }
      ],
      "source": [
        "history = model.fit(partial_x_train,\n",
        "                    partial_y_train,\n",
        "                    epochs=20,\n",
        "                    batch_size=512,\n",
        "                    validation_data=(x_val, y_val))"
      ]
    },
    {
      "cell_type": "code",
      "execution_count": null,
      "id": "1768fbf5",
      "metadata": {
        "id": "1768fbf5",
        "outputId": "49d6ac72-0c52-46be-c6ed-231ab798516e"
      },
      "outputs": [
        {
          "data": {
            "text/plain": [
              "dict_keys(['loss', 'binary_accuracy', 'val_loss', 'val_binary_accuracy'])"
            ]
          },
          "execution_count": 15,
          "metadata": {},
          "output_type": "execute_result"
        }
      ],
      "source": [
        "history_dict = history.history\n",
        "history_dict.keys()"
      ]
    },
    {
      "cell_type": "code",
      "execution_count": null,
      "id": "a65fbf8f",
      "metadata": {
        "id": "a65fbf8f",
        "outputId": "e25e4281-f0d7-47e0-8bb0-bce4152dd6ce"
      },
      "outputs": [
        {
          "data": {
            "image/png": "[encoded data removed]",
            "text/plain": [
              "<Figure size 432x288 with 1 Axes>"
            ]
          },
          "metadata": {
            "needs_background": "light"
          },
          "output_type": "display_data"
        }
      ],
      "source": [
        "# Plotting the training and validation loss\n",
        "\n",
        "import matplotlib.pyplot as plt\n",
        "%matplotlib inline\n",
        "\n",
        "loss_values = history_dict['loss']\n",
        "val_loss_values = history_dict['val_loss']\n",
        "\n",
        "epochs = range(1, len(loss_values) + 1)\n",
        "\n",
        "plt.plot(epochs, loss_values, 'bo', label=\"Training Loss\")\n",
        "plt.plot(epochs, val_loss_values, 'b', label=\"Validation Loss\")\n",
        "\n",
        "plt.title('Training and Validation Loss')\n",
        "plt.xlabel('Epochs')\n",
        "plt.ylabel('Loss Value')\n",
        "plt.legend()\n",
        "\n",
        "plt.show()"
      ]
    },
    {
      "cell_type": "code",
      "execution_count": null,
      "id": "980731a9",
      "metadata": {
        "id": "980731a9",
        "outputId": "2ea1faea-90eb-4ebf-f1f1-fd841b2fe5e3"
      },
      "outputs": [
        {
          "data": {
            "image/png": "[encoded data removed]",
            "text/plain": [
              "<Figure size 432x288 with 1 Axes>"
            ]
          },
          "metadata": {
            "needs_background": "light"
          },
          "output_type": "display_data"
        }
      ],
      "source": [
        "# Plotting the training and validation accuracy\n",
        "# Training and Validation Accuracy\n",
        "\n",
        "acc_values = history_dict['binary_accuracy']\n",
        "val_acc_values = history_dict['val_binary_accuracy']\n",
        "\n",
        "epochs = range(1, len(loss_values) + 1)\n",
        "\n",
        "plt.plot(epochs, acc_values, 'ro', label=\"Training Accuracy\")\n",
        "plt.plot(epochs, val_acc_values, 'r', label=\"Validation Accuracy\")\n",
        "\n",
        "plt.title('Training and Validation Accuraccy')\n",
        "plt.xlabel('Epochs')\n",
        "plt.ylabel('Accuracy')\n",
        "plt.legend()\n",
        "\n",
        "plt.show()"
      ]
    },
    {
      "cell_type": "markdown",
      "id": "108d7876",
      "metadata": {
        "id": "108d7876"
      },
      "source": [
        "We can see that the validation accuracy increases upto 6 epochs (Validation acc = 88.96%) and starts decreasing afetr that which means that the model starts overfitting after 6 epochs.\n",
        "\n",
        "Let's train a new network from scratch for six epochs, then evaluate it on our test data:"
      ]
    },
    {
      "cell_type": "code",
      "execution_count": null,
      "id": "59b68903",
      "metadata": {
        "id": "59b68903",
        "outputId": "e72014c5-86df-4668-f289-c55a88594620"
      },
      "outputs": [
        {
          "name": "stdout",
          "output_type": "stream",
          "text": [
            "Epoch 1/6\n",
            "49/49 [==============================] - 1s 16ms/step - loss: 0.4731 - accuracy: 0.8264\n",
            "Epoch 2/6\n",
            "49/49 [==============================] - 1s 15ms/step - loss: 0.2691 - accuracy: 0.9069\n",
            "Epoch 3/6\n",
            "49/49 [==============================] - 1s 15ms/step - loss: 0.2069 - accuracy: 0.9270\n",
            "Epoch 4/6\n",
            "49/49 [==============================] - 1s 15ms/step - loss: 0.1735 - accuracy: 0.9397\n",
            "Epoch 5/6\n",
            "49/49 [==============================] - 1s 15ms/step - loss: 0.1499 - accuracy: 0.9479\n",
            "Epoch 6/6\n",
            "49/49 [==============================] - 1s 14ms/step - loss: 0.1313 - accuracy: 0.9546\n",
            "782/782 [==============================] - 2s 2ms/step - loss: 0.3365 - accuracy: 0.8747\n"
          ]
        }
      ],
      "source": [
        "model = models.Sequential()\n",
        "model.add(layers.Dense(16, activation='relu', input_shape=(10000,)))\n",
        "model.add(layers.Dense(16, activation='relu'))\n",
        "model.add(layers.Dense(1, activation='sigmoid'))\n",
        "\n",
        "model.compile(optimizer='rmsprop',\n",
        "              loss='binary_crossentropy',\n",
        "              metrics=['accuracy'])\n",
        "\n",
        "model.fit(x_train, y_train, epochs=6, batch_size=512)\n",
        "results = model.evaluate(x_test, y_test)"
      ]
    },
    {
      "cell_type": "code",
      "execution_count": null,
      "id": "505bfbd1",
      "metadata": {
        "id": "505bfbd1",
        "outputId": "be486a84-7d43-4aa8-97cd-c3c762828231"
      },
      "outputs": [
        {
          "data": {
            "text/plain": [
              "[0.33653128147125244, 0.8747199773788452]"
            ]
          },
          "execution_count": 19,
          "metadata": {},
          "output_type": "execute_result"
        }
      ],
      "source": [
        "results\n",
        "\n",
        "# So, we acheived an accuracy of 87.8% using two hidden layers with 16 neurons in each layer"
      ]
    },
    {
      "cell_type": "code",
      "execution_count": null,
      "id": "961caad7",
      "metadata": {
        "id": "961caad7",
        "outputId": "d2b26a4b-33fd-431f-b504-7f77ec1f8304"
      },
      "outputs": [
        {
          "data": {
            "text/plain": [
              "array([[0.1088188 ],\n",
              "       [0.99991643],\n",
              "       [0.23195711],\n",
              "       ...,\n",
              "       [0.09329462],\n",
              "       [0.02919754],\n",
              "       [0.5043107 ]], dtype=float32)"
            ]
          },
          "execution_count": 20,
          "metadata": {},
          "output_type": "execute_result"
        }
      ],
      "source": [
        "#Using the trained network to generate predictions on new data\n",
        "\n",
        "model.predict(x_test)\n",
        "\n",
        "#Note: The results below gives the probability of each reveiw being \"Positive\""
      ]
    },
    {
      "cell_type": "markdown",
      "source": [
        "PART 1 - USING 1 OR 3 HIDDEN LAYERS"
      ],
      "metadata": {
        "id": "6Yqkvcw94AJn"
      },
      "id": "6Yqkvcw94AJn"
    },
    {
      "cell_type": "code",
      "execution_count": null,
      "id": "688427df",
      "metadata": {
        "id": "688427df",
        "outputId": "31dfd650-2cfe-4b5c-8ea1-24ea7797c018"
      },
      "outputs": [
        {
          "name": "stdout",
          "output_type": "stream",
          "text": [
            "Epoch 1/20\n",
            "30/30 [==============================] - 5s 142ms/step - loss: 0.5169 - binary_accuracy: 0.7928 - val_loss: 0.4081 - val_binary_accuracy: 0.8663\n",
            "Epoch 2/20\n",
            "30/30 [==============================] - 1s 27ms/step - loss: 0.3356 - binary_accuracy: 0.8987 - val_loss: 0.3350 - val_binary_accuracy: 0.8794\n",
            "Epoch 3/20\n",
            "30/30 [==============================] - 1s 26ms/step - loss: 0.2573 - binary_accuracy: 0.9235 - val_loss: 0.2947 - val_binary_accuracy: 0.8904\n",
            "Epoch 4/20\n",
            "30/30 [==============================] - 1s 26ms/step - loss: 0.2124 - binary_accuracy: 0.9347 - val_loss: 0.2805 - val_binary_accuracy: 0.8902\n",
            "Epoch 5/20\n",
            "30/30 [==============================] - 1s 26ms/step - loss: 0.1801 - binary_accuracy: 0.9459 - val_loss: 0.2732 - val_binary_accuracy: 0.8904\n",
            "Epoch 6/20\n",
            "30/30 [==============================] - 1s 27ms/step - loss: 0.1549 - binary_accuracy: 0.9533 - val_loss: 0.2730 - val_binary_accuracy: 0.8909\n",
            "Epoch 7/20\n",
            "30/30 [==============================] - 1s 26ms/step - loss: 0.1366 - binary_accuracy: 0.9599 - val_loss: 0.2819 - val_binary_accuracy: 0.8850\n",
            "Epoch 8/20\n",
            "30/30 [==============================] - 1s 24ms/step - loss: 0.1180 - binary_accuracy: 0.9668 - val_loss: 0.2835 - val_binary_accuracy: 0.8881\n",
            "Epoch 9/20\n",
            "30/30 [==============================] - 1s 26ms/step - loss: 0.1050 - binary_accuracy: 0.9717 - val_loss: 0.2940 - val_binary_accuracy: 0.8868\n",
            "Epoch 10/20\n",
            "30/30 [==============================] - 1s 26ms/step - loss: 0.0931 - binary_accuracy: 0.9753 - val_loss: 0.3015 - val_binary_accuracy: 0.8844\n",
            "Epoch 11/20\n",
            "30/30 [==============================] - 1s 27ms/step - loss: 0.0821 - binary_accuracy: 0.9802 - val_loss: 0.3146 - val_binary_accuracy: 0.8806\n",
            "Epoch 12/20\n",
            "30/30 [==============================] - 1s 27ms/step - loss: 0.0722 - binary_accuracy: 0.9831 - val_loss: 0.3262 - val_binary_accuracy: 0.8825\n",
            "Epoch 13/20\n",
            "30/30 [==============================] - 1s 25ms/step - loss: 0.0638 - binary_accuracy: 0.9863 - val_loss: 0.3445 - val_binary_accuracy: 0.8792\n",
            "Epoch 14/20\n",
            "30/30 [==============================] - 1s 26ms/step - loss: 0.0561 - binary_accuracy: 0.9885 - val_loss: 0.3618 - val_binary_accuracy: 0.8780\n",
            "Epoch 15/20\n",
            "30/30 [==============================] - 1s 26ms/step - loss: 0.0503 - binary_accuracy: 0.9904 - val_loss: 0.3721 - val_binary_accuracy: 0.8777\n",
            "Epoch 16/20\n",
            "30/30 [==============================] - 1s 26ms/step - loss: 0.0435 - binary_accuracy: 0.9925 - val_loss: 0.3881 - val_binary_accuracy: 0.8759\n",
            "Epoch 17/20\n",
            "30/30 [==============================] - 1s 26ms/step - loss: 0.0386 - binary_accuracy: 0.9937 - val_loss: 0.4030 - val_binary_accuracy: 0.8749\n",
            "Epoch 18/20\n",
            "30/30 [==============================] - 1s 24ms/step - loss: 0.0340 - binary_accuracy: 0.9942 - val_loss: 0.4379 - val_binary_accuracy: 0.8696\n",
            "Epoch 19/20\n",
            "30/30 [==============================] - 1s 25ms/step - loss: 0.0296 - binary_accuracy: 0.9957 - val_loss: 0.4426 - val_binary_accuracy: 0.8713\n",
            "Epoch 20/20\n",
            "30/30 [==============================] - 1s 26ms/step - loss: 0.0252 - binary_accuracy: 0.9969 - val_loss: 0.4571 - val_binary_accuracy: 0.8710\n"
          ]
        },
        {
          "data": {
            "image/png": "[encoded data removed]",
            "text/plain": [
              "<Figure size 432x288 with 1 Axes>"
            ]
          },
          "metadata": {
            "needs_background": "light"
          },
          "output_type": "display_data"
        },
        {
          "data": {
            "image/png": "[encoded data removed]",
            "text/plain": [
              "<Figure size 432x288 with 1 Axes>"
            ]
          },
          "metadata": {
            "needs_background": "light"
          },
          "output_type": "display_data"
        },
        {
          "name": "stdout",
          "output_type": "stream",
          "text": [
            "Epoch 1/6\n",
            "49/49 [==============================] - 2s 15ms/step - loss: 0.4551 - accuracy: 0.8264\n",
            "Epoch 2/6\n",
            "49/49 [==============================] - 1s 15ms/step - loss: 0.2811 - accuracy: 0.9072\n",
            "Epoch 3/6\n",
            "49/49 [==============================] - 1s 16ms/step - loss: 0.2217 - accuracy: 0.9253\n",
            "Epoch 4/6\n",
            "49/49 [==============================] - 1s 15ms/step - loss: 0.1900 - accuracy: 0.9357\n",
            "Epoch 5/6\n",
            "49/49 [==============================] - 1s 15ms/step - loss: 0.1661 - accuracy: 0.9438\n",
            "Epoch 6/6\n",
            "49/49 [==============================] - 1s 14ms/step - loss: 0.1494 - accuracy: 0.9501\n",
            "782/782 [==============================] - 3s 3ms/step - loss: 0.2998 - accuracy: 0.8803\n"
          ]
        },
        {
          "data": {
            "text/plain": [
              "[0.29980161786079407, 0.8802800178527832]"
            ]
          },
          "execution_count": 21,
          "metadata": {},
          "output_type": "execute_result"
        }
      ],
      "source": [
        "#1) Using 1 hidden layer in the model\n",
        "from keras import models\n",
        "from tensorflow.keras import layers\n",
        "\n",
        "model = models.Sequential()\n",
        "model.add(layers.Dense(16, activation='relu', input_shape=(10000,)))\n",
        "model.add(layers.Dense(1, activation='sigmoid'))\n",
        "\n",
        "model.compile(optimizer='rmsprop',\n",
        "              loss='binary_crossentropy',\n",
        "              metrics=['accuracy'])\n",
        "\n",
        "from keras import optimizers\n",
        "from keras import losses\n",
        "from keras import metrics\n",
        "\n",
        "from tensorflow import keras\n",
        "from keras import optimizers\n",
        "from tensorflow.keras import optimizers\n",
        "from tensorflow.keras import optimizers\n",
        "\n",
        "model.compile(optimizer=optimizers.RMSprop(learning_rate=0.001),\n",
        "              loss = losses.binary_crossentropy,\n",
        "              metrics = [metrics.binary_accuracy])\n",
        "\n",
        "x_val = x_train[:10000]\n",
        "partial_x_train = x_train[10000:]\n",
        "\n",
        "y_val = y_train[:10000]\n",
        "partial_y_train = y_train[10000:]\n",
        "\n",
        "history = model.fit(partial_x_train,\n",
        "                    partial_y_train,\n",
        "                    epochs=20,\n",
        "                    batch_size=512,\n",
        "                    validation_data=(x_val, y_val))\n",
        "\n",
        "history_dict = history.history\n",
        "history_dict.keys()\n",
        "\n",
        "# Plotting the training and validation loss\n",
        "\n",
        "import matplotlib.pyplot as plt\n",
        "%matplotlib inline\n",
        "\n",
        "loss_values = history_dict['loss']\n",
        "val_loss_values = history_dict['val_loss']\n",
        "\n",
        "epochs = range(1, len(loss_values) + 1)\n",
        "\n",
        "plt.plot(epochs, loss_values, 'bo', label=\"Training Loss\")\n",
        "plt.plot(epochs, val_loss_values, 'b', label=\"Validation Loss\")\n",
        "\n",
        "plt.title('Training and Validation Loss')\n",
        "plt.xlabel('Epochs')\n",
        "plt.ylabel('Loss Value')\n",
        "plt.legend()\n",
        "\n",
        "plt.show()\n",
        "\n",
        "\n",
        "# Plotting the training and validation accuracy\n",
        "# Training and Validation Accuracy\n",
        "\n",
        "acc_values = history_dict['binary_accuracy']\n",
        "val_acc_values = history_dict['val_binary_accuracy']\n",
        "\n",
        "epochs = range(1, len(loss_values) + 1)\n",
        "\n",
        "plt.plot(epochs, acc_values, 'ro', label=\"Training Accuracy\")\n",
        "plt.plot(epochs, val_acc_values, 'r', label=\"Validation Accuracy\")\n",
        "\n",
        "plt.title('Training and Validation Accuraccy')\n",
        "plt.xlabel('Epochs')\n",
        "plt.ylabel('Accuracy')\n",
        "plt.legend()\n",
        "\n",
        "plt.show()\n",
        "\n",
        "\n",
        "model = models.Sequential()\n",
        "model.add(layers.Dense(16, activation='relu', input_shape=(10000,)))\n",
        "model.add(layers.Dense(1, activation='sigmoid'))\n",
        "\n",
        "model.compile(optimizer='rmsprop',\n",
        "              loss='binary_crossentropy',\n",
        "              metrics=['accuracy'])\n",
        "\n",
        "model.fit(x_train, y_train, epochs=6, batch_size=512)\n",
        "results = model.evaluate(x_test, y_test)\n",
        "\n",
        "results\n"
      ]
    },
    {
      "cell_type": "markdown",
      "id": "ae4c4f7f",
      "metadata": {
        "id": "ae4c4f7f"
      },
      "source": [
        "Using 3 hidden layers"
      ]
    },
    {
      "cell_type": "code",
      "execution_count": null,
      "id": "5af86e6d",
      "metadata": {
        "id": "5af86e6d",
        "outputId": "e3d358a5-893a-4ab5-9ea1-80ebd7ed6a18"
      },
      "outputs": [
        {
          "name": "stdout",
          "output_type": "stream",
          "text": [
            "Epoch 1/20\n",
            "30/30 [==============================] - 8s 188ms/step - loss: 0.5717 - binary_accuracy: 0.7425 - val_loss: 0.4378 - val_binary_accuracy: 0.8639\n",
            "Epoch 2/20\n",
            "30/30 [==============================] - 1s 44ms/step - loss: 0.3357 - binary_accuracy: 0.8977 - val_loss: 0.3167 - val_binary_accuracy: 0.8815\n",
            "Epoch 3/20\n",
            "30/30 [==============================] - 1s 28ms/step - loss: 0.2227 - binary_accuracy: 0.9273 - val_loss: 0.2839 - val_binary_accuracy: 0.8884\n",
            "Epoch 4/20\n",
            "30/30 [==============================] - 1s 27ms/step - loss: 0.1686 - binary_accuracy: 0.9449 - val_loss: 0.3306 - val_binary_accuracy: 0.8719\n",
            "Epoch 5/20\n",
            "30/30 [==============================] - 1s 27ms/step - loss: 0.1337 - binary_accuracy: 0.9545 - val_loss: 0.3161 - val_binary_accuracy: 0.8818\n",
            "Epoch 6/20\n",
            "30/30 [==============================] - 1s 27ms/step - loss: 0.1009 - binary_accuracy: 0.9679 - val_loss: 0.4631 - val_binary_accuracy: 0.8515\n",
            "Epoch 7/20\n",
            "30/30 [==============================] - 1s 27ms/step - loss: 0.0822 - binary_accuracy: 0.9743 - val_loss: 0.3679 - val_binary_accuracy: 0.8685\n",
            "Epoch 8/20\n",
            "30/30 [==============================] - 1s 27ms/step - loss: 0.0647 - binary_accuracy: 0.9815 - val_loss: 0.3597 - val_binary_accuracy: 0.8810\n",
            "Epoch 9/20\n",
            "30/30 [==============================] - 1s 27ms/step - loss: 0.0439 - binary_accuracy: 0.9901 - val_loss: 0.4110 - val_binary_accuracy: 0.8787\n",
            "Epoch 10/20\n",
            "30/30 [==============================] - 1s 29ms/step - loss: 0.0365 - binary_accuracy: 0.9903 - val_loss: 0.5808 - val_binary_accuracy: 0.8570\n",
            "Epoch 11/20\n",
            "30/30 [==============================] - 1s 28ms/step - loss: 0.0288 - binary_accuracy: 0.9929 - val_loss: 0.4617 - val_binary_accuracy: 0.8733\n",
            "Epoch 12/20\n",
            "30/30 [==============================] - 1s 27ms/step - loss: 0.0158 - binary_accuracy: 0.9975 - val_loss: 0.6466 - val_binary_accuracy: 0.8396\n",
            "Epoch 13/20\n",
            "30/30 [==============================] - 1s 27ms/step - loss: 0.0131 - binary_accuracy: 0.9977 - val_loss: 0.5505 - val_binary_accuracy: 0.8732\n",
            "Epoch 14/20\n",
            "30/30 [==============================] - 1s 27ms/step - loss: 0.0143 - binary_accuracy: 0.9967 - val_loss: 0.5757 - val_binary_accuracy: 0.8728\n",
            "Epoch 15/20\n",
            "30/30 [==============================] - 1s 28ms/step - loss: 0.0164 - binary_accuracy: 0.9952 - val_loss: 0.6862 - val_binary_accuracy: 0.8674\n",
            "Epoch 16/20\n",
            "30/30 [==============================] - 1s 27ms/step - loss: 0.0034 - binary_accuracy: 0.9997 - val_loss: 0.6386 - val_binary_accuracy: 0.8725\n",
            "Epoch 17/20\n",
            "30/30 [==============================] - 1s 26ms/step - loss: 0.0023 - binary_accuracy: 0.9999 - val_loss: 0.6974 - val_binary_accuracy: 0.8716\n",
            "Epoch 18/20\n",
            "30/30 [==============================] - 1s 25ms/step - loss: 0.0136 - binary_accuracy: 0.9964 - val_loss: 0.7510 - val_binary_accuracy: 0.8724\n",
            "Epoch 19/20\n",
            "30/30 [==============================] - 1s 25ms/step - loss: 8.8988e-04 - binary_accuracy: 0.9999 - val_loss: 0.7736 - val_binary_accuracy: 0.8731\n",
            "Epoch 20/20\n",
            "30/30 [==============================] - 1s 27ms/step - loss: 6.6169e-04 - binary_accuracy: 0.9999 - val_loss: 0.8202 - val_binary_accuracy: 0.8703\n"
          ]
        },
        {
          "data": {
            "image/png": "[encoded data removed]",
            "text/plain": [
              "<Figure size 432x288 with 1 Axes>"
            ]
          },
          "metadata": {
            "needs_background": "light"
          },
          "output_type": "display_data"
        },
        {
          "data": {
            "image/png": "[encoded data removed]",
            "text/plain": [
              "<Figure size 432x288 with 1 Axes>"
            ]
          },
          "metadata": {
            "needs_background": "light"
          },
          "output_type": "display_data"
        },
        {
          "name": "stdout",
          "output_type": "stream",
          "text": [
            "Epoch 1/6\n",
            "49/49 [==============================] - 3s 17ms/step - loss: 0.4314 - accuracy: 0.8219\n",
            "Epoch 2/6\n",
            "49/49 [==============================] - 1s 18ms/step - loss: 0.2470 - accuracy: 0.9076\n",
            "Epoch 3/6\n",
            "49/49 [==============================] - 1s 17ms/step - loss: 0.1959 - accuracy: 0.9270\n",
            "Epoch 4/6\n",
            "49/49 [==============================] - 1s 17ms/step - loss: 0.1655 - accuracy: 0.9394\n",
            "Epoch 5/6\n",
            "49/49 [==============================] - 1s 18ms/step - loss: 0.1430 - accuracy: 0.9480\n",
            "Epoch 6/6\n",
            "49/49 [==============================] - 1s 17ms/step - loss: 0.1277 - accuracy: 0.9546\n",
            "782/782 [==============================] - 4s 4ms/step - loss: 0.3556 - accuracy: 0.8716\n"
          ]
        },
        {
          "data": {
            "text/plain": [
              "[0.35559946298599243, 0.8715599775314331]"
            ]
          },
          "execution_count": 33,
          "metadata": {},
          "output_type": "execute_result"
        }
      ],
      "source": [
        "from keras import models\n",
        "from tensorflow.keras import layers\n",
        "\n",
        "model = models.Sequential()\n",
        "model.add(layers.Dense(16, activation='relu', input_shape=(10000,)))\n",
        "model.add(layers.Dense(16, activation='relu'))\n",
        "model.add(layers.Dense(16, activation='relu'))\n",
        "model.add(layers.Dense(1, activation='sigmoid'))\n",
        "\n",
        "model.compile(optimizer='rmsprop',\n",
        "              loss='binary_crossentropy',\n",
        "              metrics=['accuracy'])\n",
        "\n",
        "from keras import optimizers\n",
        "from keras import losses\n",
        "from keras import metrics\n",
        "\n",
        "from tensorflow import keras\n",
        "from keras import optimizers\n",
        "from tensorflow.keras import optimizers\n",
        "from tensorflow.keras import optimizers\n",
        "\n",
        "model.compile(optimizer=optimizers.RMSprop(learning_rate=0.001),\n",
        "              loss = losses.binary_crossentropy,\n",
        "              metrics = [metrics.binary_accuracy])\n",
        "\n",
        "x_val = x_train[:10000]\n",
        "partial_x_train = x_train[10000:]\n",
        "\n",
        "y_val = y_train[:10000]\n",
        "partial_y_train = y_train[10000:]\n",
        "\n",
        "history = model.fit(partial_x_train,\n",
        "                    partial_y_train,\n",
        "                    epochs=20,\n",
        "                    batch_size=512,\n",
        "                    validation_data=(x_val, y_val))\n",
        "\n",
        "history_dict = history.history\n",
        "history_dict.keys()\n",
        "\n",
        "# Plotting the training and validation loss\n",
        "\n",
        "import matplotlib.pyplot as plt\n",
        "%matplotlib inline\n",
        "\n",
        "loss_values = history_dict['loss']\n",
        "val_loss_values = history_dict['val_loss']\n",
        "\n",
        "epochs = range(1, len(loss_values) + 1)\n",
        "\n",
        "plt.plot(epochs, loss_values, 'bo', label=\"Training Loss\")\n",
        "plt.plot(epochs, val_loss_values, 'b', label=\"Validation Loss\")\n",
        "\n",
        "plt.title('Training and Validation Loss')\n",
        "plt.xlabel('Epochs')\n",
        "plt.ylabel('Loss Value')\n",
        "plt.legend()\n",
        "\n",
        "plt.show()\n",
        "\n",
        "\n",
        "# Plotting the training and validation accuracy\n",
        "# Training and Validation Accuracy\n",
        "\n",
        "acc_values = history_dict['binary_accuracy']\n",
        "val_acc_values = history_dict['val_binary_accuracy']\n",
        "\n",
        "epochs = range(1, len(loss_values) + 1)\n",
        "\n",
        "plt.plot(epochs, acc_values, 'ro', label=\"Training Accuracy\")\n",
        "plt.plot(epochs, val_acc_values, 'r', label=\"Validation Accuracy\")\n",
        "\n",
        "plt.title('Training and Validation Accuraccy')\n",
        "plt.xlabel('Epochs')\n",
        "plt.ylabel('Accuracy')\n",
        "plt.legend()\n",
        "\n",
        "plt.show()\n",
        "\n",
        "\n",
        "model = models.Sequential()\n",
        "model.add(layers.Dense(16, activation='relu', input_shape=(10000,)))\n",
        "model.add(layers.Dense(16, activation='relu'))\n",
        "model.add(layers.Dense(16, activation='relu'))\n",
        "model.add(layers.Dense(1, activation='sigmoid'))\n",
        "\n",
        "model.compile(optimizer='rmsprop',\n",
        "              loss='binary_crossentropy',\n",
        "              metrics=['accuracy'])\n",
        "\n",
        "model.fit(x_train, y_train, epochs=6, batch_size=512)\n",
        "results = model.evaluate(x_test, y_test)\n",
        "\n",
        "results"
      ]
    },
    {
      "cell_type": "markdown",
      "source": [
        "PART 2 - USING MULTIPLE NEURONS"
      ],
      "metadata": {
        "id": "BrlgQT3l4Wij"
      },
      "id": "BrlgQT3l4Wij"
    },
    {
      "cell_type": "markdown",
      "id": "d80e52f5",
      "metadata": {
        "id": "d80e52f5"
      },
      "source": [
        "Using 2 hidden layers with 32 neurons in each layer"
      ]
    },
    {
      "cell_type": "code",
      "execution_count": null,
      "id": "ac991af9",
      "metadata": {
        "id": "ac991af9",
        "outputId": "b7c392b5-6b77-4464-8a4e-f9b6ca2dc93b"
      },
      "outputs": [
        {
          "name": "stdout",
          "output_type": "stream",
          "text": [
            "Epoch 1/20\n",
            "30/30 [==============================] - 4s 112ms/step - loss: 0.4777 - binary_accuracy: 0.7887 - val_loss: 0.3577 - val_binary_accuracy: 0.8596\n",
            "Epoch 2/20\n",
            "30/30 [==============================] - 1s 30ms/step - loss: 0.2682 - binary_accuracy: 0.9076 - val_loss: 0.3024 - val_binary_accuracy: 0.8782\n",
            "Epoch 3/20\n",
            "30/30 [==============================] - 1s 26ms/step - loss: 0.1906 - binary_accuracy: 0.9335 - val_loss: 0.2889 - val_binary_accuracy: 0.8844\n",
            "Epoch 4/20\n",
            "30/30 [==============================] - 1s 30ms/step - loss: 0.1561 - binary_accuracy: 0.9445 - val_loss: 0.3879 - val_binary_accuracy: 0.8558\n",
            "Epoch 5/20\n",
            "30/30 [==============================] - 1s 32ms/step - loss: 0.1219 - binary_accuracy: 0.9575 - val_loss: 0.3394 - val_binary_accuracy: 0.8750\n",
            "Epoch 6/20\n",
            "30/30 [==============================] - 1s 31ms/step - loss: 0.0975 - binary_accuracy: 0.9683 - val_loss: 0.3499 - val_binary_accuracy: 0.8781\n",
            "Epoch 7/20\n",
            "30/30 [==============================] - 1s 31ms/step - loss: 0.0729 - binary_accuracy: 0.9788 - val_loss: 0.3503 - val_binary_accuracy: 0.8808\n",
            "Epoch 8/20\n",
            "30/30 [==============================] - 1s 30ms/step - loss: 0.0646 - binary_accuracy: 0.9784 - val_loss: 0.3931 - val_binary_accuracy: 0.8772\n",
            "Epoch 9/20\n",
            "30/30 [==============================] - 1s 32ms/step - loss: 0.0462 - binary_accuracy: 0.9879 - val_loss: 0.4158 - val_binary_accuracy: 0.8746\n",
            "Epoch 10/20\n",
            "30/30 [==============================] - 1s 31ms/step - loss: 0.0378 - binary_accuracy: 0.9900 - val_loss: 0.4417 - val_binary_accuracy: 0.8760\n",
            "Epoch 11/20\n",
            "30/30 [==============================] - 1s 33ms/step - loss: 0.0314 - binary_accuracy: 0.9913 - val_loss: 0.4764 - val_binary_accuracy: 0.8734\n",
            "Epoch 12/20\n",
            "30/30 [==============================] - 1s 31ms/step - loss: 0.0235 - binary_accuracy: 0.9945 - val_loss: 0.5161 - val_binary_accuracy: 0.8724\n",
            "Epoch 13/20\n",
            "30/30 [==============================] - 1s 32ms/step - loss: 0.0109 - binary_accuracy: 0.9995 - val_loss: 0.5519 - val_binary_accuracy: 0.8734\n",
            "Epoch 14/20\n",
            "30/30 [==============================] - 1s 32ms/step - loss: 0.0203 - binary_accuracy: 0.9937 - val_loss: 0.5851 - val_binary_accuracy: 0.8714\n",
            "Epoch 15/20\n",
            "30/30 [==============================] - 1s 31ms/step - loss: 0.0051 - binary_accuracy: 0.9998 - val_loss: 0.6413 - val_binary_accuracy: 0.8674\n",
            "Epoch 16/20\n",
            "30/30 [==============================] - 1s 30ms/step - loss: 0.0161 - binary_accuracy: 0.9954 - val_loss: 0.6688 - val_binary_accuracy: 0.8696\n",
            "Epoch 17/20\n",
            "30/30 [==============================] - 1s 28ms/step - loss: 0.0025 - binary_accuracy: 0.9999 - val_loss: 0.6997 - val_binary_accuracy: 0.8690\n",
            "Epoch 18/20\n",
            "30/30 [==============================] - 1s 27ms/step - loss: 0.0156 - binary_accuracy: 0.9954 - val_loss: 0.7377 - val_binary_accuracy: 0.8655\n",
            "Epoch 19/20\n",
            "30/30 [==============================] - 1s 31ms/step - loss: 0.0015 - binary_accuracy: 0.9999 - val_loss: 0.7597 - val_binary_accuracy: 0.8682\n",
            "Epoch 20/20\n",
            "30/30 [==============================] - 1s 30ms/step - loss: 0.0012 - binary_accuracy: 0.9999 - val_loss: 0.8054 - val_binary_accuracy: 0.8674\n"
          ]
        },
        {
          "data": {
            "image/png": "[encoded data removed]",
            "text/plain": [
              "<Figure size 432x288 with 1 Axes>"
            ]
          },
          "metadata": {
            "needs_background": "light"
          },
          "output_type": "display_data"
        },
        {
          "data": {
            "image/png": "[encoded data removed]",
            "text/plain": [
              "<Figure size 432x288 with 1 Axes>"
            ]
          },
          "metadata": {
            "needs_background": "light"
          },
          "output_type": "display_data"
        },
        {
          "name": "stdout",
          "output_type": "stream",
          "text": [
            "Epoch 1/6\n",
            "49/49 [==============================] - 2s 19ms/step - loss: 0.4200 - accuracy: 0.8225\n",
            "Epoch 2/6\n",
            "49/49 [==============================] - 1s 20ms/step - loss: 0.2396 - accuracy: 0.9121\n",
            "Epoch 3/6\n",
            "49/49 [==============================] - 1s 18ms/step - loss: 0.1867 - accuracy: 0.9313\n",
            "Epoch 4/6\n",
            "49/49 [==============================] - 1s 19ms/step - loss: 0.1560 - accuracy: 0.9423\n",
            "Epoch 5/6\n",
            "49/49 [==============================] - 1s 21ms/step - loss: 0.1346 - accuracy: 0.9505\n",
            "Epoch 6/6\n",
            "49/49 [==============================] - 1s 22ms/step - loss: 0.1171 - accuracy: 0.9570\n",
            "782/782 [==============================] - 3s 3ms/step - loss: 0.3720 - accuracy: 0.8696\n"
          ]
        },
        {
          "data": {
            "text/plain": [
              "[0.3719937205314636, 0.8695999979972839]"
            ]
          },
          "execution_count": 34,
          "metadata": {},
          "output_type": "execute_result"
        }
      ],
      "source": [
        "from keras import models\n",
        "from tensorflow.keras import layers\n",
        "\n",
        "model = models.Sequential()\n",
        "model.add(layers.Dense(32, activation='relu', input_shape=(10000,)))\n",
        "model.add(layers.Dense(32, activation='relu'))\n",
        "model.add(layers.Dense(1, activation='sigmoid'))\n",
        "\n",
        "model.compile(optimizer='rmsprop',\n",
        "              loss='binary_crossentropy',\n",
        "              metrics=['accuracy'])\n",
        "\n",
        "from keras import optimizers\n",
        "from keras import losses\n",
        "from keras import metrics\n",
        "\n",
        "from tensorflow import keras\n",
        "from keras import optimizers\n",
        "from tensorflow.keras import optimizers\n",
        "from tensorflow.keras import optimizers\n",
        "\n",
        "model.compile(optimizer=optimizers.RMSprop(learning_rate=0.001),\n",
        "              loss = losses.binary_crossentropy,\n",
        "              metrics = [metrics.binary_accuracy])\n",
        "\n",
        "x_val = x_train[:10000]\n",
        "partial_x_train = x_train[10000:]\n",
        "\n",
        "y_val = y_train[:10000]\n",
        "partial_y_train = y_train[10000:]\n",
        "\n",
        "history = model.fit(partial_x_train,\n",
        "                    partial_y_train,\n",
        "                    epochs=20,\n",
        "                    batch_size=512,\n",
        "                    validation_data=(x_val, y_val))\n",
        "\n",
        "history_dict = history.history\n",
        "history_dict.keys()\n",
        "\n",
        "# Plotting the training and validation loss\n",
        "\n",
        "import matplotlib.pyplot as plt\n",
        "%matplotlib inline\n",
        "\n",
        "loss_values = history_dict['loss']\n",
        "val_loss_values = history_dict['val_loss']\n",
        "\n",
        "epochs = range(1, len(loss_values) + 1)\n",
        "\n",
        "plt.plot(epochs, loss_values, 'bo', label=\"Training Loss\")\n",
        "plt.plot(epochs, val_loss_values, 'b', label=\"Validation Loss\")\n",
        "\n",
        "plt.title('Training and Validation Loss')\n",
        "plt.xlabel('Epochs')\n",
        "plt.ylabel('Loss Value')\n",
        "plt.legend()\n",
        "\n",
        "plt.show()\n",
        "\n",
        "\n",
        "# Plotting the training and validation accuracy\n",
        "# Training and Validation Accuracy\n",
        "\n",
        "acc_values = history_dict['binary_accuracy']\n",
        "val_acc_values = history_dict['val_binary_accuracy']\n",
        "\n",
        "epochs = range(1, len(loss_values) + 1)\n",
        "\n",
        "plt.plot(epochs, acc_values, 'ro', label=\"Training Accuracy\")\n",
        "plt.plot(epochs, val_acc_values, 'r', label=\"Validation Accuracy\")\n",
        "\n",
        "plt.title('Training and Validation Accuraccy')\n",
        "plt.xlabel('Epochs')\n",
        "plt.ylabel('Accuracy')\n",
        "plt.legend()\n",
        "\n",
        "plt.show()\n",
        "\n",
        "\n",
        "model = models.Sequential()\n",
        "model.add(layers.Dense(32, activation='relu', input_shape=(10000,)))\n",
        "model.add(layers.Dense(32, activation='relu'))\n",
        "model.add(layers.Dense(1, activation='sigmoid'))\n",
        "\n",
        "model.compile(optimizer='rmsprop',\n",
        "              loss='binary_crossentropy',\n",
        "              metrics=['accuracy'])\n",
        "\n",
        "model.fit(x_train, y_train, epochs=6, batch_size=512)\n",
        "results = model.evaluate(x_test, y_test)\n",
        "\n",
        "results"
      ]
    },
    {
      "cell_type": "markdown",
      "id": "979ecf48",
      "metadata": {
        "id": "979ecf48"
      },
      "source": [
        "Using 2 hidden layers with 64 neurons in each hidden layer"
      ]
    },
    {
      "cell_type": "code",
      "execution_count": null,
      "id": "d801e5d7",
      "metadata": {
        "id": "d801e5d7",
        "outputId": "9ee5ada6-11ac-4d3e-d964-fbb707d86ad9"
      },
      "outputs": [
        {
          "name": "stdout",
          "output_type": "stream",
          "text": [
            "Epoch 1/20\n",
            "30/30 [==============================] - 5s 124ms/step - loss: 0.4727 - binary_accuracy: 0.7893 - val_loss: 0.4668 - val_binary_accuracy: 0.7832\n",
            "Epoch 2/20\n",
            "30/30 [==============================] - 1s 38ms/step - loss: 0.2635 - binary_accuracy: 0.8995 - val_loss: 0.2782 - val_binary_accuracy: 0.8901\n",
            "Epoch 3/20\n",
            "30/30 [==============================] - 1s 38ms/step - loss: 0.1869 - binary_accuracy: 0.9322 - val_loss: 0.2891 - val_binary_accuracy: 0.8830\n",
            "Epoch 4/20\n",
            "30/30 [==============================] - 1s 39ms/step - loss: 0.1452 - binary_accuracy: 0.9477 - val_loss: 0.3012 - val_binary_accuracy: 0.8855\n",
            "Epoch 5/20\n",
            "30/30 [==============================] - 1s 42ms/step - loss: 0.1140 - binary_accuracy: 0.9590 - val_loss: 0.3507 - val_binary_accuracy: 0.8707\n",
            "Epoch 6/20\n",
            "30/30 [==============================] - 1s 43ms/step - loss: 0.0880 - binary_accuracy: 0.9704 - val_loss: 0.3448 - val_binary_accuracy: 0.8818\n",
            "Epoch 7/20\n",
            "30/30 [==============================] - 1s 43ms/step - loss: 0.0666 - binary_accuracy: 0.9802 - val_loss: 0.3735 - val_binary_accuracy: 0.8818\n",
            "Epoch 8/20\n",
            "30/30 [==============================] - 1s 43ms/step - loss: 0.0500 - binary_accuracy: 0.9845 - val_loss: 0.4037 - val_binary_accuracy: 0.8794\n",
            "Epoch 9/20\n",
            "30/30 [==============================] - 1s 42ms/step - loss: 0.0432 - binary_accuracy: 0.9869 - val_loss: 0.4276 - val_binary_accuracy: 0.8776\n",
            "Epoch 10/20\n",
            "30/30 [==============================] - 1s 43ms/step - loss: 0.0126 - binary_accuracy: 0.9985 - val_loss: 0.4942 - val_binary_accuracy: 0.8766\n",
            "Epoch 11/20\n",
            "30/30 [==============================] - 1s 42ms/step - loss: 0.0452 - binary_accuracy: 0.9877 - val_loss: 0.5187 - val_binary_accuracy: 0.8748\n",
            "Epoch 12/20\n",
            "30/30 [==============================] - 1s 42ms/step - loss: 0.0051 - binary_accuracy: 0.9997 - val_loss: 0.5668 - val_binary_accuracy: 0.8745\n",
            "Epoch 13/20\n",
            "30/30 [==============================] - 1s 42ms/step - loss: 0.0438 - binary_accuracy: 0.9894 - val_loss: 0.5891 - val_binary_accuracy: 0.8745\n",
            "Epoch 14/20\n",
            "30/30 [==============================] - 1s 44ms/step - loss: 0.0024 - binary_accuracy: 0.9999 - val_loss: 0.6289 - val_binary_accuracy: 0.8741\n",
            "Epoch 15/20\n",
            "30/30 [==============================] - 1s 44ms/step - loss: 0.0017 - binary_accuracy: 0.9999 - val_loss: 0.7019 - val_binary_accuracy: 0.8712\n",
            "Epoch 16/20\n",
            "30/30 [==============================] - 1s 45ms/step - loss: 0.0356 - binary_accuracy: 0.9913 - val_loss: 0.7364 - val_binary_accuracy: 0.8703\n",
            "Epoch 17/20\n",
            "30/30 [==============================] - 1s 44ms/step - loss: 6.9064e-04 - binary_accuracy: 1.0000 - val_loss: 0.7584 - val_binary_accuracy: 0.8693\n",
            "Epoch 18/20\n",
            "30/30 [==============================] - 1s 43ms/step - loss: 4.9388e-04 - binary_accuracy: 1.0000 - val_loss: 0.8038 - val_binary_accuracy: 0.8695\n",
            "Epoch 19/20\n",
            "30/30 [==============================] - 1s 44ms/step - loss: 3.1662e-04 - binary_accuracy: 1.0000 - val_loss: 0.8770 - val_binary_accuracy: 0.8693\n",
            "Epoch 20/20\n",
            "30/30 [==============================] - 1s 44ms/step - loss: 0.0407 - binary_accuracy: 0.9923 - val_loss: 0.9519 - val_binary_accuracy: 0.8637\n"
          ]
        },
        {
          "data": {
            "image/png": "[encoded data removed]",
            "text/plain": [
              "<Figure size 432x288 with 1 Axes>"
            ]
          },
          "metadata": {
            "needs_background": "light"
          },
          "output_type": "display_data"
        },
        {
          "data": {
            "image/png": "[encoded data removed]",
            "text/plain": [
              "<Figure size 432x288 with 1 Axes>"
            ]
          },
          "metadata": {
            "needs_background": "light"
          },
          "output_type": "display_data"
        },
        {
          "name": "stdout",
          "output_type": "stream",
          "text": [
            "Epoch 1/6\n",
            "49/49 [==============================] - 2s 28ms/step - loss: 0.4126 - accuracy: 0.8124\n",
            "Epoch 2/6\n",
            "49/49 [==============================] - 1s 27ms/step - loss: 0.2399 - accuracy: 0.9065\n",
            "Epoch 3/6\n",
            "49/49 [==============================] - 1s 27ms/step - loss: 0.1825 - accuracy: 0.9305\n",
            "Epoch 4/6\n",
            "49/49 [==============================] - 1s 30ms/step - loss: 0.1457 - accuracy: 0.9450\n",
            "Epoch 5/6\n",
            "49/49 [==============================] - 2s 31ms/step - loss: 0.1086 - accuracy: 0.9604\n",
            "Epoch 6/6\n",
            "49/49 [==============================] - 2s 33ms/step - loss: 0.0881 - accuracy: 0.9689\n",
            "782/782 [==============================] - 4s 4ms/step - loss: 0.4535 - accuracy: 0.8584\n"
          ]
        },
        {
          "data": {
            "text/plain": [
              "[0.4535001814365387, 0.8584399819374084]"
            ]
          },
          "execution_count": 43,
          "metadata": {},
          "output_type": "execute_result"
        }
      ],
      "source": [
        "from keras import models\n",
        "from tensorflow.keras import layers\n",
        "\n",
        "model = models.Sequential()\n",
        "model.add(layers.Dense(64, activation='relu', input_shape=(10000,)))\n",
        "model.add(layers.Dense(64, activation='relu'))\n",
        "model.add(layers.Dense(1, activation='sigmoid'))\n",
        "\n",
        "model.compile(optimizer='rmsprop',\n",
        "              loss='binary_crossentropy',\n",
        "              metrics=['accuracy'])\n",
        "\n",
        "from keras import optimizers\n",
        "from keras import losses\n",
        "from keras import metrics\n",
        "\n",
        "from tensorflow import keras\n",
        "from keras import optimizers\n",
        "from tensorflow.keras import optimizers\n",
        "from tensorflow.keras import optimizers\n",
        "\n",
        "model.compile(optimizer=optimizers.RMSprop(learning_rate=0.001),\n",
        "              loss = losses.binary_crossentropy,\n",
        "              metrics = [metrics.binary_accuracy])\n",
        "\n",
        "x_val = x_train[:10000]\n",
        "partial_x_train = x_train[10000:]\n",
        "\n",
        "y_val = y_train[:10000]\n",
        "partial_y_train = y_train[10000:]\n",
        "\n",
        "history = model.fit(partial_x_train,\n",
        "                    partial_y_train,\n",
        "                    epochs=20,\n",
        "                    batch_size=512,\n",
        "                    validation_data=(x_val, y_val))\n",
        "\n",
        "history_dict = history.history\n",
        "history_dict.keys()\n",
        "\n",
        "# Plotting the training and validation loss\n",
        "\n",
        "import matplotlib.pyplot as plt\n",
        "%matplotlib inline\n",
        "\n",
        "loss_values = history_dict['loss']\n",
        "val_loss_values = history_dict['val_loss']\n",
        "\n",
        "epochs = range(1, len(loss_values) + 1)\n",
        "\n",
        "plt.plot(epochs, loss_values, 'bo', label=\"Training Loss\")\n",
        "plt.plot(epochs, val_loss_values, 'b', label=\"Validation Loss\")\n",
        "\n",
        "plt.title('Training and Validation Loss')\n",
        "plt.xlabel('Epochs')\n",
        "plt.ylabel('Loss Value')\n",
        "plt.legend()\n",
        "\n",
        "plt.show()\n",
        "\n",
        "\n",
        "# Plotting the training and validation accuracy\n",
        "# Training and Validation Accuracy\n",
        "\n",
        "acc_values = history_dict['binary_accuracy']\n",
        "val_acc_values = history_dict['val_binary_accuracy']\n",
        "\n",
        "epochs = range(1, len(loss_values) + 1)\n",
        "\n",
        "plt.plot(epochs, acc_values, 'ro', label=\"Training Accuracy\")\n",
        "plt.plot(epochs, val_acc_values, 'r', label=\"Validation Accuracy\")\n",
        "\n",
        "plt.title('Training and Validation Accuraccy')\n",
        "plt.xlabel('Epochs')\n",
        "plt.ylabel('Accuracy')\n",
        "plt.legend()\n",
        "\n",
        "plt.show()\n",
        "\n",
        "\n",
        "model = models.Sequential()\n",
        "model.add(layers.Dense(64, activation='relu', input_shape=(10000,)))\n",
        "model.add(layers.Dense(64, activation='relu'))\n",
        "model.add(layers.Dense(1, activation='sigmoid'))\n",
        "\n",
        "model.compile(optimizer='rmsprop',\n",
        "              loss='binary_crossentropy',\n",
        "              metrics=['accuracy'])\n",
        "\n",
        "model.fit(x_train, y_train, epochs=6, batch_size=512)\n",
        "results = model.evaluate(x_test, y_test)\n",
        "\n",
        "results"
      ]
    },
    {
      "cell_type": "markdown",
      "id": "c2e0adf8",
      "metadata": {
        "id": "c2e0adf8"
      },
      "source": [
        "Using 2 hidden layers with 128 neurons in each hidden layer"
      ]
    },
    {
      "cell_type": "code",
      "execution_count": null,
      "id": "601a0b7e",
      "metadata": {
        "id": "601a0b7e",
        "outputId": "8795e8a3-62f5-4712-dcae-297671113b99"
      },
      "outputs": [
        {
          "name": "stdout",
          "output_type": "stream",
          "text": [
            "Epoch 1/20\n",
            "30/30 [==============================] - 12s 402ms/step - loss: 0.4925 - binary_accuracy: 0.7669 - val_loss: 0.3164 - val_binary_accuracy: 0.8743\n",
            "Epoch 2/20\n",
            "30/30 [==============================] - 1s 40ms/step - loss: 0.2609 - binary_accuracy: 0.8999 - val_loss: 0.3420 - val_binary_accuracy: 0.8594\n",
            "Epoch 3/20\n",
            "30/30 [==============================] - 1s 39ms/step - loss: 0.1794 - binary_accuracy: 0.9327 - val_loss: 0.2911 - val_binary_accuracy: 0.8859\n",
            "Epoch 4/20\n",
            "30/30 [==============================] - 5s 187ms/step - loss: 0.1294 - binary_accuracy: 0.9529 - val_loss: 0.3034 - val_binary_accuracy: 0.8865\n",
            "Epoch 5/20\n",
            "30/30 [==============================] - 1s 49ms/step - loss: 0.0938 - binary_accuracy: 0.9680 - val_loss: 0.3420 - val_binary_accuracy: 0.8832\n",
            "Epoch 6/20\n",
            "30/30 [==============================] - 1s 47ms/step - loss: 0.0769 - binary_accuracy: 0.9789 - val_loss: 0.3503 - val_binary_accuracy: 0.8849\n",
            "Epoch 7/20\n",
            "30/30 [==============================] - 1s 50ms/step - loss: 0.0151 - binary_accuracy: 0.9975 - val_loss: 0.4516 - val_binary_accuracy: 0.8828\n",
            "Epoch 8/20\n",
            "30/30 [==============================] - 1s 46ms/step - loss: 0.0610 - binary_accuracy: 0.9843 - val_loss: 0.4578 - val_binary_accuracy: 0.8824\n",
            "Epoch 9/20\n",
            "30/30 [==============================] - 1s 48ms/step - loss: 0.0036 - binary_accuracy: 0.9998 - val_loss: 0.5299 - val_binary_accuracy: 0.8823\n",
            "Epoch 10/20\n",
            "30/30 [==============================] - 2s 51ms/step - loss: 0.0016 - binary_accuracy: 0.9999 - val_loss: 0.6097 - val_binary_accuracy: 0.8798\n",
            "Epoch 11/20\n",
            "30/30 [==============================] - 2s 51ms/step - loss: 0.1060 - binary_accuracy: 0.9862 - val_loss: 0.6146 - val_binary_accuracy: 0.8786\n",
            "Epoch 12/20\n",
            "30/30 [==============================] - 1s 49ms/step - loss: 5.6292e-04 - binary_accuracy: 1.0000 - val_loss: 0.6381 - val_binary_accuracy: 0.8795\n",
            "Epoch 13/20\n",
            "30/30 [==============================] - 1s 47ms/step - loss: 3.3825e-04 - binary_accuracy: 1.0000 - val_loss: 0.6947 - val_binary_accuracy: 0.8793\n",
            "Epoch 14/20\n",
            "30/30 [==============================] - 1s 48ms/step - loss: 1.8160e-04 - binary_accuracy: 1.0000 - val_loss: 0.7614 - val_binary_accuracy: 0.8781\n",
            "Epoch 15/20\n",
            "30/30 [==============================] - 1s 47ms/step - loss: 8.0696e-05 - binary_accuracy: 1.0000 - val_loss: 1.1218 - val_binary_accuracy: 0.8552\n",
            "Epoch 16/20\n",
            "30/30 [==============================] - 1s 46ms/step - loss: 0.0756 - binary_accuracy: 0.9897 - val_loss: 0.7916 - val_binary_accuracy: 0.8775\n",
            "Epoch 17/20\n",
            "30/30 [==============================] - 1s 45ms/step - loss: 5.5294e-05 - binary_accuracy: 1.0000 - val_loss: 0.8218 - val_binary_accuracy: 0.8767\n",
            "Epoch 18/20\n",
            "30/30 [==============================] - 1s 47ms/step - loss: 3.8521e-05 - binary_accuracy: 1.0000 - val_loss: 0.8616 - val_binary_accuracy: 0.8758\n",
            "Epoch 19/20\n",
            "30/30 [==============================] - 1s 44ms/step - loss: 2.3832e-05 - binary_accuracy: 1.0000 - val_loss: 0.9208 - val_binary_accuracy: 0.8750\n",
            "Epoch 20/20\n",
            "30/30 [==============================] - 1s 45ms/step - loss: 1.1857e-05 - binary_accuracy: 1.0000 - val_loss: 0.9921 - val_binary_accuracy: 0.8753\n"
          ]
        },
        {
          "data": {
            "image/png": "[encoded data removed]",
            "text/plain": [
              "<Figure size 432x288 with 1 Axes>"
            ]
          },
          "metadata": {
            "needs_background": "light"
          },
          "output_type": "display_data"
        },
        {
          "data": {
            "image/png": "[encoded data removed]",
            "text/plain": [
              "<Figure size 432x288 with 1 Axes>"
            ]
          },
          "metadata": {
            "needs_background": "light"
          },
          "output_type": "display_data"
        },
        {
          "name": "stdout",
          "output_type": "stream",
          "text": [
            "Epoch 1/6\n",
            "49/49 [==============================] - 3s 44ms/step - loss: 0.4286 - accuracy: 0.8098\n",
            "Epoch 2/6\n",
            "49/49 [==============================] - 2s 36ms/step - loss: 0.2296 - accuracy: 0.9094\n",
            "Epoch 3/6\n",
            "49/49 [==============================] - 2s 36ms/step - loss: 0.1621 - accuracy: 0.9380\n",
            "Epoch 4/6\n",
            "49/49 [==============================] - 2s 36ms/step - loss: 0.1126 - accuracy: 0.9572\n",
            "Epoch 5/6\n",
            "49/49 [==============================] - 2s 35ms/step - loss: 0.0764 - accuracy: 0.9738\n",
            "Epoch 6/6\n",
            "49/49 [==============================] - 2s 34ms/step - loss: 0.0407 - accuracy: 0.9880\n",
            "782/782 [==============================] - 3s 3ms/step - loss: 0.4880 - accuracy: 0.8748\n"
          ]
        },
        {
          "data": {
            "text/plain": [
              "[0.4880313277244568, 0.8747599720954895]"
            ]
          },
          "execution_count": 51,
          "metadata": {},
          "output_type": "execute_result"
        }
      ],
      "source": [
        "from keras import models\n",
        "from tensorflow.keras import layers\n",
        "\n",
        "model = models.Sequential()\n",
        "model.add(layers.Dense(128, activation='relu', input_shape=(10000,)))\n",
        "model.add(layers.Dense(128, activation='relu'))\n",
        "model.add(layers.Dense(1, activation='sigmoid'))\n",
        "\n",
        "model.compile(optimizer='rmsprop',\n",
        "              loss='binary_crossentropy',\n",
        "              metrics=['accuracy'])\n",
        "\n",
        "from keras import optimizers\n",
        "from keras import losses\n",
        "from keras import metrics\n",
        "\n",
        "from tensorflow import keras\n",
        "from keras import optimizers\n",
        "from tensorflow.keras import optimizers\n",
        "from tensorflow.keras import optimizers\n",
        "\n",
        "model.compile(optimizer=optimizers.RMSprop(learning_rate=0.001),\n",
        "              loss = losses.binary_crossentropy,\n",
        "              metrics = [metrics.binary_accuracy])\n",
        "\n",
        "x_val = x_train[:10000]\n",
        "partial_x_train = x_train[10000:]\n",
        "\n",
        "y_val = y_train[:10000]\n",
        "partial_y_train = y_train[10000:]\n",
        "\n",
        "history = model.fit(partial_x_train,\n",
        "                    partial_y_train,\n",
        "                    epochs=20,\n",
        "                    batch_size=512,\n",
        "                    validation_data=(x_val, y_val))\n",
        "\n",
        "history_dict = history.history\n",
        "history_dict.keys()\n",
        "\n",
        "# Plotting the training and validation loss\n",
        "\n",
        "import matplotlib.pyplot as plt\n",
        "%matplotlib inline\n",
        "\n",
        "loss_values = history_dict['loss']\n",
        "val_loss_values = history_dict['val_loss']\n",
        "\n",
        "epochs = range(1, len(loss_values) + 1)\n",
        "\n",
        "plt.plot(epochs, loss_values, 'bo', label=\"Training Loss\")\n",
        "plt.plot(epochs, val_loss_values, 'b', label=\"Validation Loss\")\n",
        "\n",
        "plt.title('Training and Validation Loss')\n",
        "plt.xlabel('Epochs')\n",
        "plt.ylabel('Loss Value')\n",
        "plt.legend()\n",
        "\n",
        "plt.show()\n",
        "\n",
        "\n",
        "# Plotting the training and validation accuracy\n",
        "# Training and Validation Accuracy\n",
        "\n",
        "acc_values = history_dict['binary_accuracy']\n",
        "val_acc_values = history_dict['val_binary_accuracy']\n",
        "\n",
        "epochs = range(1, len(loss_values) + 1)\n",
        "\n",
        "plt.plot(epochs, acc_values, 'ro', label=\"Training Accuracy\")\n",
        "plt.plot(epochs, val_acc_values, 'r', label=\"Validation Accuracy\")\n",
        "\n",
        "plt.title('Training and Validation Accuraccy')\n",
        "plt.xlabel('Epochs')\n",
        "plt.ylabel('Accuracy')\n",
        "plt.legend()\n",
        "\n",
        "plt.show()\n",
        "\n",
        "\n",
        "model = models.Sequential()\n",
        "model.add(layers.Dense(128, activation='relu', input_shape=(10000,)))\n",
        "model.add(layers.Dense(128, activation='relu'))\n",
        "model.add(layers.Dense(1, activation='sigmoid'))\n",
        "\n",
        "model.compile(optimizer='rmsprop',\n",
        "              loss='binary_crossentropy',\n",
        "              metrics=['accuracy'])\n",
        "\n",
        "model.fit(x_train, y_train, epochs=6, batch_size=512)\n",
        "results = model.evaluate(x_test, y_test)\n",
        "\n",
        "results"
      ]
    },
    {
      "cell_type": "markdown",
      "id": "9f57beaa",
      "metadata": {
        "id": "9f57beaa"
      },
      "source": [
        "Using 2 hidden layers with 256 neurons in each layer"
      ]
    },
    {
      "cell_type": "code",
      "execution_count": null,
      "id": "88013b87",
      "metadata": {
        "id": "88013b87",
        "outputId": "4555cc69-2bb5-42e6-e4e5-209f5d2a1101"
      },
      "outputs": [
        {
          "name": "stdout",
          "output_type": "stream",
          "text": [
            "Epoch 1/20\n",
            "30/30 [==============================] - 7s 191ms/step - loss: 0.5096 - binary_accuracy: 0.7705 - val_loss: 0.3121 - val_binary_accuracy: 0.8806\n",
            "Epoch 2/20\n",
            "30/30 [==============================] - 3s 103ms/step - loss: 0.2563 - binary_accuracy: 0.9019 - val_loss: 0.3525 - val_binary_accuracy: 0.8476\n",
            "Epoch 3/20\n",
            "30/30 [==============================] - 3s 101ms/step - loss: 0.1735 - binary_accuracy: 0.9346 - val_loss: 0.2884 - val_binary_accuracy: 0.8840\n",
            "Epoch 4/20\n",
            "30/30 [==============================] - 3s 102ms/step - loss: 0.1073 - binary_accuracy: 0.9643 - val_loss: 0.3228 - val_binary_accuracy: 0.8852\n",
            "Epoch 5/20\n",
            "30/30 [==============================] - 3s 100ms/step - loss: 0.0873 - binary_accuracy: 0.9745 - val_loss: 0.3723 - val_binary_accuracy: 0.8864\n",
            "Epoch 6/20\n",
            "30/30 [==============================] - 3s 104ms/step - loss: 0.0155 - binary_accuracy: 0.9961 - val_loss: 1.6455 - val_binary_accuracy: 0.7172\n",
            "Epoch 7/20\n",
            "30/30 [==============================] - 3s 99ms/step - loss: 0.0485 - binary_accuracy: 0.9867 - val_loss: 0.5019 - val_binary_accuracy: 0.8833\n",
            "Epoch 8/20\n",
            "30/30 [==============================] - 3s 101ms/step - loss: 0.0017 - binary_accuracy: 0.9998 - val_loss: 0.6154 - val_binary_accuracy: 0.8835\n",
            "Epoch 9/20\n",
            "30/30 [==============================] - 3s 99ms/step - loss: 3.2130e-04 - binary_accuracy: 1.0000 - val_loss: 0.7502 - val_binary_accuracy: 0.8822\n",
            "Epoch 10/20\n",
            "30/30 [==============================] - 3s 100ms/step - loss: 5.7831e-05 - binary_accuracy: 1.0000 - val_loss: 0.8871 - val_binary_accuracy: 0.8809\n",
            "Epoch 11/20\n",
            "30/30 [==============================] - 3s 99ms/step - loss: 1.0288e-05 - binary_accuracy: 1.0000 - val_loss: 1.0031 - val_binary_accuracy: 0.8803\n",
            "Epoch 12/20\n",
            "30/30 [==============================] - 3s 100ms/step - loss: 2.6093e-06 - binary_accuracy: 1.0000 - val_loss: 1.2618 - val_binary_accuracy: 0.8686\n",
            "Epoch 13/20\n",
            "30/30 [==============================] - 3s 100ms/step - loss: 0.2346 - binary_accuracy: 0.9807 - val_loss: 0.9574 - val_binary_accuracy: 0.8709\n",
            "Epoch 14/20\n",
            "30/30 [==============================] - 3s 95ms/step - loss: 6.1193e-05 - binary_accuracy: 1.0000 - val_loss: 0.9481 - val_binary_accuracy: 0.8750\n",
            "Epoch 15/20\n",
            "30/30 [==============================] - 3s 95ms/step - loss: 1.9046e-05 - binary_accuracy: 1.0000 - val_loss: 0.9576 - val_binary_accuracy: 0.8759\n",
            "Epoch 16/20\n",
            "30/30 [==============================] - 3s 96ms/step - loss: 7.3909e-06 - binary_accuracy: 1.0000 - val_loss: 0.9794 - val_binary_accuracy: 0.8769\n",
            "Epoch 17/20\n",
            "30/30 [==============================] - 3s 89ms/step - loss: 3.3997e-06 - binary_accuracy: 1.0000 - val_loss: 1.0209 - val_binary_accuracy: 0.8782\n",
            "Epoch 18/20\n",
            "30/30 [==============================] - 3s 97ms/step - loss: 1.5710e-06 - binary_accuracy: 1.0000 - val_loss: 1.0822 - val_binary_accuracy: 0.8787\n",
            "Epoch 19/20\n",
            "30/30 [==============================] - 3s 99ms/step - loss: 6.5603e-07 - binary_accuracy: 1.0000 - val_loss: 1.1662 - val_binary_accuracy: 0.8787\n",
            "Epoch 20/20\n",
            "30/30 [==============================] - 3s 97ms/step - loss: 2.7506e-07 - binary_accuracy: 1.0000 - val_loss: 1.2240 - val_binary_accuracy: 0.8788\n"
          ]
        },
        {
          "data": {
            "image/png": "[encoded data removed]",
            "text/plain": [
              "<Figure size 432x288 with 1 Axes>"
            ]
          },
          "metadata": {
            "needs_background": "light"
          },
          "output_type": "display_data"
        },
        {
          "data": {
            "image/png": "[encoded data removed]",
            "text/plain": [
              "<Figure size 432x288 with 1 Axes>"
            ]
          },
          "metadata": {
            "needs_background": "light"
          },
          "output_type": "display_data"
        },
        {
          "name": "stdout",
          "output_type": "stream",
          "text": [
            "Epoch 1/6\n",
            "49/49 [==============================] - 6s 81ms/step - loss: 0.4422 - accuracy: 0.8041\n",
            "Epoch 2/6\n",
            "49/49 [==============================] - 4s 84ms/step - loss: 0.2241 - accuracy: 0.9116\n",
            "Epoch 3/6\n",
            "49/49 [==============================] - 4s 83ms/step - loss: 0.1539 - accuracy: 0.9403\n",
            "Epoch 4/6\n",
            "49/49 [==============================] - 4s 80ms/step - loss: 0.0817 - accuracy: 0.9710\n",
            "Epoch 5/6\n",
            "49/49 [==============================] - 4s 82ms/step - loss: 0.0418 - accuracy: 0.9864\n",
            "Epoch 6/6\n",
            "49/49 [==============================] - 4s 79ms/step - loss: 0.0561 - accuracy: 0.9891\n",
            "782/782 [==============================] - 5s 6ms/step - loss: 0.5328 - accuracy: 0.8783\n"
          ]
        },
        {
          "data": {
            "text/plain": [
              "[0.532812237739563, 0.8783199787139893]"
            ]
          },
          "execution_count": 37,
          "metadata": {},
          "output_type": "execute_result"
        }
      ],
      "source": [
        "from keras import models\n",
        "from tensorflow.keras import layers\n",
        "\n",
        "model = models.Sequential()\n",
        "model.add(layers.Dense(256, activation='relu', input_shape=(10000,)))\n",
        "model.add(layers.Dense(256, activation='relu'))\n",
        "model.add(layers.Dense(1, activation='sigmoid'))\n",
        "\n",
        "model.compile(optimizer='rmsprop',\n",
        "              loss='binary_crossentropy',\n",
        "              metrics=['accuracy'])\n",
        "\n",
        "from keras import optimizers\n",
        "from keras import losses\n",
        "from keras import metrics\n",
        "\n",
        "from tensorflow import keras\n",
        "from keras import optimizers\n",
        "from tensorflow.keras import optimizers\n",
        "from tensorflow.keras import optimizers\n",
        "\n",
        "model.compile(optimizer=optimizers.RMSprop(learning_rate=0.001),\n",
        "              loss = losses.binary_crossentropy,\n",
        "              metrics = [metrics.binary_accuracy])\n",
        "\n",
        "x_val = x_train[:10000]\n",
        "partial_x_train = x_train[10000:]\n",
        "\n",
        "y_val = y_train[:10000]\n",
        "partial_y_train = y_train[10000:]\n",
        "\n",
        "history = model.fit(partial_x_train,\n",
        "                    partial_y_train,\n",
        "                    epochs=20,\n",
        "                    batch_size=512,\n",
        "                    validation_data=(x_val, y_val))\n",
        "\n",
        "history_dict = history.history\n",
        "history_dict.keys()\n",
        "\n",
        "# Plotting the training and validation loss\n",
        "\n",
        "import matplotlib.pyplot as plt\n",
        "%matplotlib inline\n",
        "\n",
        "loss_values = history_dict['loss']\n",
        "val_loss_values = history_dict['val_loss']\n",
        "\n",
        "epochs = range(1, len(loss_values) + 1)\n",
        "\n",
        "plt.plot(epochs, loss_values, 'bo', label=\"Training Loss\")\n",
        "plt.plot(epochs, val_loss_values, 'b', label=\"Validation Loss\")\n",
        "\n",
        "plt.title('Training and Validation Loss')\n",
        "plt.xlabel('Epochs')\n",
        "plt.ylabel('Loss Value')\n",
        "plt.legend()\n",
        "\n",
        "plt.show()\n",
        "\n",
        "\n",
        "# Plotting the training and validation accuracy\n",
        "# Training and Validation Accuracy\n",
        "\n",
        "acc_values = history_dict['binary_accuracy']\n",
        "val_acc_values = history_dict['val_binary_accuracy']\n",
        "\n",
        "epochs = range(1, len(loss_values) + 1)\n",
        "\n",
        "plt.plot(epochs, acc_values, 'ro', label=\"Training Accuracy\")\n",
        "plt.plot(epochs, val_acc_values, 'r', label=\"Validation Accuracy\")\n",
        "\n",
        "plt.title('Training and Validation Accuraccy')\n",
        "plt.xlabel('Epochs')\n",
        "plt.ylabel('Accuracy')\n",
        "plt.legend()\n",
        "\n",
        "plt.show()\n",
        "\n",
        "\n",
        "model = models.Sequential()\n",
        "model.add(layers.Dense(256, activation='relu', input_shape=(10000,)))\n",
        "model.add(layers.Dense(256, activation='relu'))\n",
        "model.add(layers.Dense(1, activation='sigmoid'))\n",
        "\n",
        "model.compile(optimizer='rmsprop',\n",
        "              loss='binary_crossentropy',\n",
        "              metrics=['accuracy'])\n",
        "\n",
        "model.fit(x_train, y_train, epochs=6, batch_size=512)\n",
        "results = model.evaluate(x_test, y_test)\n",
        "\n",
        "results"
      ]
    },
    {
      "cell_type": "markdown",
      "id": "6245b87b",
      "metadata": {
        "id": "6245b87b"
      },
      "source": [
        "Using 2 hidden layers with 512 neurons in each layer"
      ]
    },
    {
      "cell_type": "code",
      "execution_count": null,
      "id": "826e0d93",
      "metadata": {
        "id": "826e0d93",
        "outputId": "c5954f66-2935-42c2-dec6-a4002bc7fea6"
      },
      "outputs": [
        {
          "name": "stdout",
          "output_type": "stream",
          "text": [
            "Epoch 1/20\n",
            "30/30 [==============================] - 13s 415ms/step - loss: 0.5287 - binary_accuracy: 0.7639 - val_loss: 0.3199 - val_binary_accuracy: 0.8646\n",
            "Epoch 2/20\n",
            "30/30 [==============================] - 5s 183ms/step - loss: 0.2643 - binary_accuracy: 0.8953 - val_loss: 0.2980 - val_binary_accuracy: 0.8763\n",
            "Epoch 3/20\n",
            "30/30 [==============================] - 5s 183ms/step - loss: 0.1477 - binary_accuracy: 0.9459 - val_loss: 0.3793 - val_binary_accuracy: 0.8604\n",
            "Epoch 4/20\n",
            "30/30 [==============================] - 5s 181ms/step - loss: 0.0727 - binary_accuracy: 0.9749 - val_loss: 0.5795 - val_binary_accuracy: 0.8426\n",
            "Epoch 5/20\n",
            "30/30 [==============================] - 5s 177ms/step - loss: 0.1045 - binary_accuracy: 0.9757 - val_loss: 0.3346 - val_binary_accuracy: 0.8883\n",
            "Epoch 6/20\n",
            "30/30 [==============================] - 5s 178ms/step - loss: 0.0045 - binary_accuracy: 0.9993 - val_loss: 0.4817 - val_binary_accuracy: 0.8881\n",
            "Epoch 7/20\n",
            "30/30 [==============================] - 5s 181ms/step - loss: 5.3606e-04 - binary_accuracy: 0.9999 - val_loss: 0.6038 - val_binary_accuracy: 0.8880\n",
            "Epoch 8/20\n",
            "30/30 [==============================] - 5s 182ms/step - loss: 8.4916e-05 - binary_accuracy: 1.0000 - val_loss: 0.7223 - val_binary_accuracy: 0.8870\n",
            "Epoch 9/20\n",
            "30/30 [==============================] - 5s 179ms/step - loss: 1.6076e-05 - binary_accuracy: 1.0000 - val_loss: 0.8082 - val_binary_accuracy: 0.8849\n",
            "Epoch 10/20\n",
            "30/30 [==============================] - 5s 184ms/step - loss: 3.6006e-06 - binary_accuracy: 1.0000 - val_loss: 0.8934 - val_binary_accuracy: 0.8851\n",
            "Epoch 11/20\n",
            "30/30 [==============================] - 5s 180ms/step - loss: 9.6542e-07 - binary_accuracy: 1.0000 - val_loss: 0.9952 - val_binary_accuracy: 0.8850\n",
            "Epoch 12/20\n",
            "30/30 [==============================] - 5s 179ms/step - loss: 2.9136e-07 - binary_accuracy: 1.0000 - val_loss: 1.0657 - val_binary_accuracy: 0.8852\n",
            "Epoch 13/20\n",
            "30/30 [==============================] - 5s 180ms/step - loss: 1.0059e-07 - binary_accuracy: 1.0000 - val_loss: 1.1177 - val_binary_accuracy: 0.8843\n",
            "Epoch 14/20\n",
            "30/30 [==============================] - 5s 181ms/step - loss: 4.5357e-08 - binary_accuracy: 1.0000 - val_loss: 1.1651 - val_binary_accuracy: 0.8843\n",
            "Epoch 15/20\n",
            "30/30 [==============================] - 5s 182ms/step - loss: 2.6190e-08 - binary_accuracy: 1.0000 - val_loss: 1.1962 - val_binary_accuracy: 0.8846\n",
            "Epoch 16/20\n",
            "30/30 [==============================] - 5s 179ms/step - loss: 1.8135e-08 - binary_accuracy: 1.0000 - val_loss: 1.2159 - val_binary_accuracy: 0.8846\n",
            "Epoch 17/20\n",
            "30/30 [==============================] - 5s 177ms/step - loss: 1.3748e-08 - binary_accuracy: 1.0000 - val_loss: 1.2320 - val_binary_accuracy: 0.8845\n",
            "Epoch 18/20\n",
            "30/30 [==============================] - 5s 177ms/step - loss: 1.1086e-08 - binary_accuracy: 1.0000 - val_loss: 1.2439 - val_binary_accuracy: 0.8845\n",
            "Epoch 19/20\n",
            "30/30 [==============================] - 5s 181ms/step - loss: 9.2985e-09 - binary_accuracy: 1.0000 - val_loss: 1.2546 - val_binary_accuracy: 0.8843\n",
            "Epoch 20/20\n",
            "30/30 [==============================] - 5s 178ms/step - loss: 7.9973e-09 - binary_accuracy: 1.0000 - val_loss: 1.2669 - val_binary_accuracy: 0.8847\n"
          ]
        },
        {
          "data": {
            "image/png": "[encoded data removed]",
            "text/plain": [
              "<Figure size 432x288 with 1 Axes>"
            ]
          },
          "metadata": {
            "needs_background": "light"
          },
          "output_type": "display_data"
        },
        {
          "data": {
            "image/png": "[encoded data removed]",
            "text/plain": [
              "<Figure size 432x288 with 1 Axes>"
            ]
          },
          "metadata": {
            "needs_background": "light"
          },
          "output_type": "display_data"
        },
        {
          "name": "stdout",
          "output_type": "stream",
          "text": [
            "Epoch 1/6\n",
            "49/49 [==============================] - 9s 144ms/step - loss: 0.4606 - accuracy: 0.7972\n",
            "Epoch 2/6\n",
            "49/49 [==============================] - 7s 151ms/step - loss: 0.2236 - accuracy: 0.9118\n",
            "Epoch 3/6\n",
            "49/49 [==============================] - 7s 150ms/step - loss: 0.1296 - accuracy: 0.9507\n",
            "Epoch 4/6\n",
            "49/49 [==============================] - 7s 147ms/step - loss: 0.0656 - accuracy: 0.9802\n",
            "Epoch 5/6\n",
            "49/49 [==============================] - 8s 154ms/step - loss: 0.0994 - accuracy: 0.9864\n",
            "Epoch 6/6\n",
            "49/49 [==============================] - 7s 150ms/step - loss: 0.0025 - accuracy: 0.9998\n",
            "782/782 [==============================] - 8s 10ms/step - loss: 0.7149 - accuracy: 0.8740\n"
          ]
        },
        {
          "data": {
            "text/plain": [
              "[0.7149271965026855, 0.873960018157959]"
            ]
          },
          "execution_count": 38,
          "metadata": {},
          "output_type": "execute_result"
        }
      ],
      "source": [
        "from keras import models\n",
        "from tensorflow.keras import layers\n",
        "\n",
        "model = models.Sequential()\n",
        "model.add(layers.Dense(512, activation='relu', input_shape=(10000,)))\n",
        "model.add(layers.Dense(512, activation='relu'))\n",
        "model.add(layers.Dense(1, activation='sigmoid'))\n",
        "\n",
        "model.compile(optimizer='rmsprop',\n",
        "              loss='binary_crossentropy',\n",
        "              metrics=['accuracy'])\n",
        "\n",
        "from keras import optimizers\n",
        "from keras import losses\n",
        "from keras import metrics\n",
        "\n",
        "from tensorflow import keras\n",
        "from keras import optimizers\n",
        "from tensorflow.keras import optimizers\n",
        "from tensorflow.keras import optimizers\n",
        "\n",
        "model.compile(optimizer=optimizers.RMSprop(learning_rate=0.001),\n",
        "              loss = losses.binary_crossentropy,\n",
        "              metrics = [metrics.binary_accuracy])\n",
        "\n",
        "x_val = x_train[:10000]\n",
        "partial_x_train = x_train[10000:]\n",
        "\n",
        "y_val = y_train[:10000]\n",
        "partial_y_train = y_train[10000:]\n",
        "\n",
        "history = model.fit(partial_x_train,\n",
        "                    partial_y_train,\n",
        "                    epochs=20,\n",
        "                    batch_size=512,\n",
        "                    validation_data=(x_val, y_val))\n",
        "\n",
        "history_dict = history.history\n",
        "history_dict.keys()\n",
        "\n",
        "# Plotting the training and validation loss\n",
        "\n",
        "import matplotlib.pyplot as plt\n",
        "%matplotlib inline\n",
        "\n",
        "loss_values = history_dict['loss']\n",
        "val_loss_values = history_dict['val_loss']\n",
        "\n",
        "epochs = range(1, len(loss_values) + 1)\n",
        "\n",
        "plt.plot(epochs, loss_values, 'bo', label=\"Training Loss\")\n",
        "plt.plot(epochs, val_loss_values, 'b', label=\"Validation Loss\")\n",
        "\n",
        "plt.title('Training and Validation Loss')\n",
        "plt.xlabel('Epochs')\n",
        "plt.ylabel('Loss Value')\n",
        "plt.legend()\n",
        "\n",
        "plt.show()\n",
        "\n",
        "\n",
        "# Plotting the training and validation accuracy\n",
        "# Training and Validation Accuracy\n",
        "\n",
        "acc_values = history_dict['binary_accuracy']\n",
        "val_acc_values = history_dict['val_binary_accuracy']\n",
        "\n",
        "epochs = range(1, len(loss_values) + 1)\n",
        "\n",
        "plt.plot(epochs, acc_values, 'ro', label=\"Training Accuracy\")\n",
        "plt.plot(epochs, val_acc_values, 'r', label=\"Validation Accuracy\")\n",
        "\n",
        "plt.title('Training and Validation Accuraccy')\n",
        "plt.xlabel('Epochs')\n",
        "plt.ylabel('Accuracy')\n",
        "plt.legend()\n",
        "\n",
        "plt.show()\n",
        "\n",
        "\n",
        "model = models.Sequential()\n",
        "model.add(layers.Dense(512, activation='relu', input_shape=(10000,)))\n",
        "model.add(layers.Dense(512, activation='relu'))\n",
        "model.add(layers.Dense(1, activation='sigmoid'))\n",
        "\n",
        "model.compile(optimizer='rmsprop',\n",
        "              loss='binary_crossentropy',\n",
        "              metrics=['accuracy'])\n",
        "\n",
        "model.fit(x_train, y_train, epochs=6, batch_size=512)\n",
        "results = model.evaluate(x_test, y_test)\n",
        "\n",
        "results"
      ]
    },
    {
      "cell_type": "markdown",
      "source": [
        "PART 3 - MSE LOSS FUNCTION"
      ],
      "metadata": {
        "id": "Dh95J1kp4l7J"
      },
      "id": "Dh95J1kp4l7J"
    },
    {
      "cell_type": "markdown",
      "id": "547d27d7",
      "metadata": {
        "id": "547d27d7"
      },
      "source": [
        "Using MSE loss function instead of binary_crossentropy with 2 hidden layers and 64 neurons in each hidden layer"
      ]
    },
    {
      "cell_type": "code",
      "execution_count": null,
      "id": "ee6185d9",
      "metadata": {
        "id": "ee6185d9",
        "outputId": "ef0c5abb-1c57-40f9-e417-a96b0ad2f6bc"
      },
      "outputs": [
        {
          "name": "stdout",
          "output_type": "stream",
          "text": [
            "Epoch 1/20\n",
            "30/30 [==============================] - 6s 170ms/step - loss: 0.1583 - binary_accuracy: 0.7683 - val_loss: 0.0974 - val_binary_accuracy: 0.8817\n",
            "Epoch 2/20\n",
            "30/30 [==============================] - 1s 43ms/step - loss: 0.0779 - binary_accuracy: 0.9031 - val_loss: 0.0862 - val_binary_accuracy: 0.8878\n",
            "Epoch 3/20\n",
            "30/30 [==============================] - 1s 42ms/step - loss: 0.0560 - binary_accuracy: 0.9315 - val_loss: 0.0834 - val_binary_accuracy: 0.8882\n",
            "Epoch 4/20\n",
            "30/30 [==============================] - 1s 45ms/step - loss: 0.0393 - binary_accuracy: 0.9541 - val_loss: 0.0832 - val_binary_accuracy: 0.8860\n",
            "Epoch 5/20\n",
            "30/30 [==============================] - 1s 45ms/step - loss: 0.0311 - binary_accuracy: 0.9643 - val_loss: 0.0855 - val_binary_accuracy: 0.8858\n",
            "Epoch 6/20\n",
            "30/30 [==============================] - 1s 45ms/step - loss: 0.0237 - binary_accuracy: 0.9737 - val_loss: 0.1029 - val_binary_accuracy: 0.8635\n",
            "Epoch 7/20\n",
            "30/30 [==============================] - 1s 41ms/step - loss: 0.0202 - binary_accuracy: 0.9775 - val_loss: 0.0913 - val_binary_accuracy: 0.8795\n",
            "Epoch 8/20\n",
            "30/30 [==============================] - 1s 46ms/step - loss: 0.0153 - binary_accuracy: 0.9826 - val_loss: 0.0941 - val_binary_accuracy: 0.8776\n",
            "Epoch 9/20\n",
            "30/30 [==============================] - 1s 42ms/step - loss: 0.0066 - binary_accuracy: 0.9943 - val_loss: 0.1053 - val_binary_accuracy: 0.8657\n",
            "Epoch 10/20\n",
            "30/30 [==============================] - 1s 44ms/step - loss: 0.0120 - binary_accuracy: 0.9862 - val_loss: 0.0981 - val_binary_accuracy: 0.8756\n",
            "Epoch 11/20\n",
            "30/30 [==============================] - 1s 43ms/step - loss: 0.0039 - binary_accuracy: 0.9966 - val_loss: 0.1565 - val_binary_accuracy: 0.8171\n",
            "Epoch 12/20\n",
            "30/30 [==============================] - 1s 43ms/step - loss: 0.0073 - binary_accuracy: 0.9915 - val_loss: 0.1007 - val_binary_accuracy: 0.8736\n",
            "Epoch 13/20\n",
            "30/30 [==============================] - 1s 40ms/step - loss: 0.0099 - binary_accuracy: 0.9883 - val_loss: 0.1033 - val_binary_accuracy: 0.8723\n",
            "Epoch 14/20\n",
            "30/30 [==============================] - 1s 43ms/step - loss: 0.0022 - binary_accuracy: 0.9979 - val_loss: 0.1036 - val_binary_accuracy: 0.8721\n",
            "Epoch 15/20\n",
            "30/30 [==============================] - 1s 44ms/step - loss: 0.0020 - binary_accuracy: 0.9981 - val_loss: 0.1075 - val_binary_accuracy: 0.8696\n",
            "Epoch 16/20\n",
            "30/30 [==============================] - 1s 43ms/step - loss: 0.0072 - binary_accuracy: 0.9916 - val_loss: 0.1065 - val_binary_accuracy: 0.8703\n",
            "Epoch 17/20\n",
            "30/30 [==============================] - 1s 42ms/step - loss: 0.0017 - binary_accuracy: 0.9983 - val_loss: 0.1072 - val_binary_accuracy: 0.8703\n",
            "Epoch 18/20\n",
            "30/30 [==============================] - 1s 44ms/step - loss: 0.0016 - binary_accuracy: 0.9984 - val_loss: 0.1074 - val_binary_accuracy: 0.8697\n",
            "Epoch 19/20\n",
            "30/30 [==============================] - 1s 43ms/step - loss: 0.0083 - binary_accuracy: 0.9897 - val_loss: 0.1106 - val_binary_accuracy: 0.8692\n",
            "Epoch 20/20\n",
            "30/30 [==============================] - 1s 42ms/step - loss: 0.0016 - binary_accuracy: 0.9985 - val_loss: 0.1082 - val_binary_accuracy: 0.8708\n"
          ]
        },
        {
          "data": {
            "image/png": "[encoded data removed]",
            "text/plain": [
              "<Figure size 432x288 with 1 Axes>"
            ]
          },
          "metadata": {
            "needs_background": "light"
          },
          "output_type": "display_data"
        },
        {
          "data": {
            "image/png": "[encoded data removed]",
            "text/plain": [
              "<Figure size 432x288 with 1 Axes>"
            ]
          },
          "metadata": {
            "needs_background": "light"
          },
          "output_type": "display_data"
        },
        {
          "name": "stdout",
          "output_type": "stream",
          "text": [
            "Epoch 1/4\n",
            "49/49 [==============================] - 3s 29ms/step - loss: 0.1352 - accuracy: 0.8058\n",
            "Epoch 2/4\n",
            "49/49 [==============================] - 2s 33ms/step - loss: 0.0714 - accuracy: 0.9080\n",
            "Epoch 3/4\n",
            "49/49 [==============================] - 2s 31ms/step - loss: 0.0539 - accuracy: 0.9310\n",
            "Epoch 4/4\n",
            "49/49 [==============================] - 1s 29ms/step - loss: 0.0432 - accuracy: 0.9465\n",
            "782/782 [==============================] - 4s 4ms/step - loss: 0.0979 - accuracy: 0.8698\n"
          ]
        },
        {
          "data": {
            "text/plain": [
              "[0.09790237993001938, 0.8697999715805054]"
            ]
          },
          "execution_count": 64,
          "metadata": {},
          "output_type": "execute_result"
        }
      ],
      "source": [
        "from keras import models\n",
        "from tensorflow.keras import layers\n",
        "\n",
        "model = models.Sequential()\n",
        "model.add(layers.Dense(64, activation='relu', input_shape=(10000,)))\n",
        "model.add(layers.Dense(64, activation='relu'))\n",
        "model.add(layers.Dense(1, activation='sigmoid'))\n",
        "\n",
        "model.compile(optimizer='rmsprop',\n",
        "              loss='MSE',\n",
        "              metrics=['accuracy'])\n",
        "\n",
        "from keras import optimizers\n",
        "from keras import losses\n",
        "from keras import metrics\n",
        "\n",
        "from tensorflow import keras\n",
        "from keras import optimizers\n",
        "from tensorflow.keras import optimizers\n",
        "from tensorflow.keras import optimizers\n",
        "\n",
        "model.compile(optimizer=optimizers.RMSprop(learning_rate=0.001),\n",
        "              loss = losses.MSE,\n",
        "              metrics = [metrics.binary_accuracy])\n",
        "\n",
        "x_val = x_train[:10000]\n",
        "partial_x_train = x_train[10000:]\n",
        "\n",
        "y_val = y_train[:10000]\n",
        "partial_y_train = y_train[10000:]\n",
        "\n",
        "history = model.fit(partial_x_train,\n",
        "                    partial_y_train,\n",
        "                    epochs=20,\n",
        "                    batch_size=512,\n",
        "                    validation_data=(x_val, y_val))\n",
        "\n",
        "history_dict = history.history\n",
        "history_dict.keys()\n",
        "\n",
        "# Plotting the training and validation loss\n",
        "\n",
        "import matplotlib.pyplot as plt\n",
        "%matplotlib inline\n",
        "\n",
        "loss_values = history_dict['loss']\n",
        "val_loss_values = history_dict['val_loss']\n",
        "\n",
        "epochs = range(1, len(loss_values) + 1)\n",
        "\n",
        "plt.plot(epochs, loss_values, 'bo', label=\"Training Loss\")\n",
        "plt.plot(epochs, val_loss_values, 'b', label=\"Validation Loss\")\n",
        "\n",
        "plt.title('Training and Validation Loss')\n",
        "plt.xlabel('Epochs')\n",
        "plt.ylabel('Loss Value')\n",
        "plt.legend()\n",
        "\n",
        "plt.show()\n",
        "\n",
        "\n",
        "# Plotting the training and validation accuracy\n",
        "# Training and Validation Accuracy\n",
        "\n",
        "acc_values = history_dict['binary_accuracy']\n",
        "val_acc_values = history_dict['val_binary_accuracy']\n",
        "\n",
        "epochs = range(1, len(loss_values) + 1)\n",
        "\n",
        "plt.plot(epochs, acc_values, 'ro', label=\"Training Accuracy\")\n",
        "plt.plot(epochs, val_acc_values, 'r', label=\"Validation Accuracy\")\n",
        "\n",
        "plt.title('Training and Validation Accuraccy')\n",
        "plt.xlabel('Epochs')\n",
        "plt.ylabel('Accuracy')\n",
        "plt.legend()\n",
        "\n",
        "plt.show()\n",
        "\n",
        "\n",
        "model = models.Sequential()\n",
        "model.add(layers.Dense(64, activation='relu', input_shape=(10000,)))\n",
        "model.add(layers.Dense(64, activation='relu'))\n",
        "model.add(layers.Dense(1, activation='sigmoid'))\n",
        "\n",
        "model.compile(optimizer='rmsprop',\n",
        "              loss='MSE',\n",
        "              metrics=['accuracy'])\n",
        "\n",
        "model.fit(x_train, y_train, epochs=4, batch_size=512)\n",
        "results = model.evaluate(x_test, y_test)\n",
        "\n",
        "results"
      ]
    },
    {
      "cell_type": "markdown",
      "id": "0fdd34d0",
      "metadata": {
        "id": "0fdd34d0"
      },
      "source": [
        "Using tanh activation function instead of relu ( 2 hidden layers with 64 neurons in each layer)"
      ]
    },
    {
      "cell_type": "code",
      "execution_count": null,
      "id": "39e86815",
      "metadata": {
        "id": "39e86815",
        "outputId": "358a8859-eb30-4f9f-ebf9-9df449c5819c"
      },
      "outputs": [
        {
          "name": "stdout",
          "output_type": "stream",
          "text": [
            "Epoch 1/20\n",
            "30/30 [==============================] - 3s 85ms/step - loss: 0.4572 - binary_accuracy: 0.7935 - val_loss: 0.2950 - val_binary_accuracy: 0.8842\n",
            "Epoch 2/20\n",
            "30/30 [==============================] - 1s 39ms/step - loss: 0.2308 - binary_accuracy: 0.9112 - val_loss: 0.2964 - val_binary_accuracy: 0.8802\n",
            "Epoch 3/20\n",
            "30/30 [==============================] - 1s 41ms/step - loss: 0.1626 - binary_accuracy: 0.9371 - val_loss: 0.3018 - val_binary_accuracy: 0.8849\n",
            "Epoch 4/20\n",
            "30/30 [==============================] - 1s 35ms/step - loss: 0.1395 - binary_accuracy: 0.9477 - val_loss: 0.3280 - val_binary_accuracy: 0.8799\n",
            "Epoch 5/20\n",
            "30/30 [==============================] - 1s 34ms/step - loss: 0.1051 - binary_accuracy: 0.9625 - val_loss: 0.3623 - val_binary_accuracy: 0.8809\n",
            "Epoch 6/20\n",
            "30/30 [==============================] - 1s 35ms/step - loss: 0.0810 - binary_accuracy: 0.9732 - val_loss: 0.4365 - val_binary_accuracy: 0.8728\n",
            "Epoch 7/20\n",
            "30/30 [==============================] - 1s 33ms/step - loss: 0.0677 - binary_accuracy: 0.9777 - val_loss: 0.4735 - val_binary_accuracy: 0.8738\n",
            "Epoch 8/20\n",
            "30/30 [==============================] - 1s 33ms/step - loss: 0.0607 - binary_accuracy: 0.9798 - val_loss: 0.5171 - val_binary_accuracy: 0.8717\n",
            "Epoch 9/20\n",
            "30/30 [==============================] - 1s 33ms/step - loss: 0.0562 - binary_accuracy: 0.9832 - val_loss: 0.5682 - val_binary_accuracy: 0.8681\n",
            "Epoch 10/20\n",
            "30/30 [==============================] - 1s 32ms/step - loss: 0.0518 - binary_accuracy: 0.9854 - val_loss: 0.5964 - val_binary_accuracy: 0.8687\n",
            "Epoch 11/20\n",
            "30/30 [==============================] - 1s 32ms/step - loss: 0.0094 - binary_accuracy: 0.9985 - val_loss: 0.6709 - val_binary_accuracy: 0.8664\n",
            "Epoch 12/20\n",
            "30/30 [==============================] - 1s 32ms/step - loss: 0.0390 - binary_accuracy: 0.9905 - val_loss: 0.6983 - val_binary_accuracy: 0.8656\n",
            "Epoch 13/20\n",
            "30/30 [==============================] - 1s 33ms/step - loss: 0.0034 - binary_accuracy: 0.9997 - val_loss: 0.7943 - val_binary_accuracy: 0.8639\n",
            "Epoch 14/20\n",
            "30/30 [==============================] - 1s 31ms/step - loss: 0.0562 - binary_accuracy: 0.9887 - val_loss: 0.8299 - val_binary_accuracy: 0.8657\n",
            "Epoch 15/20\n",
            "30/30 [==============================] - 1s 28ms/step - loss: 0.0014 - binary_accuracy: 0.9999 - val_loss: 0.8577 - val_binary_accuracy: 0.8654\n",
            "Epoch 16/20\n",
            "30/30 [==============================] - 5s 159ms/step - loss: 7.9010e-04 - binary_accuracy: 0.9999 - val_loss: 0.9240 - val_binary_accuracy: 0.8634\n",
            "Epoch 17/20\n",
            "30/30 [==============================] - 1s 35ms/step - loss: 0.0555 - binary_accuracy: 0.9909 - val_loss: 0.9710 - val_binary_accuracy: 0.8632\n",
            "Epoch 18/20\n",
            "30/30 [==============================] - 1s 29ms/step - loss: 3.9454e-04 - binary_accuracy: 1.0000 - val_loss: 0.9817 - val_binary_accuracy: 0.8633\n",
            "Epoch 19/20\n",
            "30/30 [==============================] - 1s 28ms/step - loss: 2.2374e-04 - binary_accuracy: 1.0000 - val_loss: 1.0094 - val_binary_accuracy: 0.8630\n",
            "Epoch 20/20\n",
            "30/30 [==============================] - 1s 27ms/step - loss: 1.3865e-04 - binary_accuracy: 1.0000 - val_loss: 1.0775 - val_binary_accuracy: 0.8633\n"
          ]
        },
        {
          "data": {
            "image/png": "[encoded data removed]",
            "text/plain": [
              "<Figure size 432x288 with 1 Axes>"
            ]
          },
          "metadata": {
            "needs_background": "light"
          },
          "output_type": "display_data"
        },
        {
          "data": {
            "image/png": "[encoded data removed]",
            "text/plain": [
              "<Figure size 432x288 with 1 Axes>"
            ]
          },
          "metadata": {
            "needs_background": "light"
          },
          "output_type": "display_data"
        },
        {
          "name": "stdout",
          "output_type": "stream",
          "text": [
            "Epoch 1/6\n",
            "49/49 [==============================] - 2s 22ms/step - loss: 0.4027 - accuracy: 0.8218\n",
            "Epoch 2/6\n",
            "49/49 [==============================] - 5s 109ms/step - loss: 0.2228 - accuracy: 0.9148\n",
            "Epoch 3/6\n",
            "49/49 [==============================] - 1s 21ms/step - loss: 0.1789 - accuracy: 0.9300\n",
            "Epoch 4/6\n",
            "49/49 [==============================] - 1s 20ms/step - loss: 0.1565 - accuracy: 0.9426\n",
            "Epoch 5/6\n",
            "49/49 [==============================] - 1s 20ms/step - loss: 0.1334 - accuracy: 0.9501\n",
            "Epoch 6/6\n",
            "49/49 [==============================] - 1s 20ms/step - loss: 0.1210 - accuracy: 0.9551\n",
            "782/782 [==============================] - 2s 2ms/step - loss: 0.4016 - accuracy: 0.8636\n"
          ]
        },
        {
          "data": {
            "text/plain": [
              "[0.40164127945899963, 0.8635600209236145]"
            ]
          },
          "execution_count": 46,
          "metadata": {},
          "output_type": "execute_result"
        }
      ],
      "source": [
        "from keras import models\n",
        "from tensorflow.keras import layers\n",
        "\n",
        "model = models.Sequential()\n",
        "model.add(layers.Dense(64, activation='tanh', input_shape=(10000,)))\n",
        "model.add(layers.Dense(64, activation='tanh'))\n",
        "model.add(layers.Dense(1, activation='sigmoid'))\n",
        "\n",
        "model.compile(optimizer='rmsprop',\n",
        "              loss='binary_crossentropy',\n",
        "              metrics=['accuracy'])\n",
        "\n",
        "from keras import optimizers\n",
        "from keras import losses\n",
        "from keras import metrics\n",
        "\n",
        "from tensorflow import keras\n",
        "from keras import optimizers\n",
        "from tensorflow.keras import optimizers\n",
        "from tensorflow.keras import optimizers\n",
        "\n",
        "model.compile(optimizer=optimizers.RMSprop(learning_rate=0.001),\n",
        "              loss = losses.binary_crossentropy,\n",
        "              metrics = [metrics.binary_accuracy])\n",
        "\n",
        "x_val = x_train[:10000]\n",
        "partial_x_train = x_train[10000:]\n",
        "\n",
        "y_val = y_train[:10000]\n",
        "partial_y_train = y_train[10000:]\n",
        "\n",
        "history = model.fit(partial_x_train,\n",
        "                    partial_y_train,\n",
        "                    epochs=20,\n",
        "                    batch_size=512,\n",
        "                    validation_data=(x_val, y_val))\n",
        "\n",
        "history_dict = history.history\n",
        "history_dict.keys()\n",
        "\n",
        "# Plotting the training and validation loss\n",
        "\n",
        "import matplotlib.pyplot as plt\n",
        "%matplotlib inline\n",
        "\n",
        "loss_values = history_dict['loss']\n",
        "val_loss_values = history_dict['val_loss']\n",
        "\n",
        "epochs = range(1, len(loss_values) + 1)\n",
        "\n",
        "plt.plot(epochs, loss_values, 'bo', label=\"Training Loss\")\n",
        "plt.plot(epochs, val_loss_values, 'b', label=\"Validation Loss\")\n",
        "\n",
        "plt.title('Training and Validation Loss')\n",
        "plt.xlabel('Epochs')\n",
        "plt.ylabel('Loss Value')\n",
        "plt.legend()\n",
        "\n",
        "plt.show()\n",
        "\n",
        "\n",
        "# Plotting the training and validation accuracy\n",
        "# Training and Validation Accuracy\n",
        "\n",
        "acc_values = history_dict['binary_accuracy']\n",
        "val_acc_values = history_dict['val_binary_accuracy']\n",
        "\n",
        "epochs = range(1, len(loss_values) + 1)\n",
        "\n",
        "plt.plot(epochs, acc_values, 'ro', label=\"Training Accuracy\")\n",
        "plt.plot(epochs, val_acc_values, 'r', label=\"Validation Accuracy\")\n",
        "\n",
        "plt.title('Training and Validation Accuraccy')\n",
        "plt.xlabel('Epochs')\n",
        "plt.ylabel('Accuracy')\n",
        "plt.legend()\n",
        "\n",
        "plt.show()\n",
        "\n",
        "\n",
        "model = models.Sequential()\n",
        "model.add(layers.Dense(64, activation='tanh', input_shape=(10000,)))\n",
        "model.add(layers.Dense(64, activation='tanh'))\n",
        "model.add(layers.Dense(1, activation='sigmoid'))\n",
        "\n",
        "model.compile(optimizer='rmsprop',\n",
        "              loss='binary_crossentropy',\n",
        "              metrics=['accuracy'])\n",
        "\n",
        "model.fit(x_train, y_train, epochs=6, batch_size=512)\n",
        "results = model.evaluate(x_test, y_test)\n",
        "\n",
        "results"
      ]
    },
    {
      "cell_type": "markdown",
      "source": [
        "PART 4 - TANH ACTIVATION"
      ],
      "metadata": {
        "id": "jrTjN9sU4usK"
      },
      "id": "jrTjN9sU4usK"
    },
    {
      "cell_type": "markdown",
      "id": "a9bb6f87",
      "metadata": {
        "id": "a9bb6f87"
      },
      "source": [
        "Using tanh activation function and MSE loss function with 2 hidden layers and 64 neurons in each layer"
      ]
    },
    {
      "cell_type": "code",
      "execution_count": null,
      "id": "a84d71cf",
      "metadata": {
        "id": "a84d71cf",
        "outputId": "6bae3284-dce0-42eb-eec7-853f2bb0b000"
      },
      "outputs": [
        {
          "name": "stdout",
          "output_type": "stream",
          "text": [
            "Epoch 1/20\n",
            "30/30 [==============================] - 3s 77ms/step - loss: 0.1521 - binary_accuracy: 0.7835 - val_loss: 0.0912 - val_binary_accuracy: 0.8828\n",
            "Epoch 2/20\n",
            "30/30 [==============================] - 5s 160ms/step - loss: 0.0719 - binary_accuracy: 0.9068 - val_loss: 0.0961 - val_binary_accuracy: 0.8717\n",
            "Epoch 3/20\n",
            "30/30 [==============================] - 2s 51ms/step - loss: 0.0493 - binary_accuracy: 0.9369 - val_loss: 0.0929 - val_binary_accuracy: 0.8743\n",
            "Epoch 4/20\n",
            "30/30 [==============================] - 1s 34ms/step - loss: 0.0405 - binary_accuracy: 0.9485 - val_loss: 0.0925 - val_binary_accuracy: 0.8790\n",
            "Epoch 5/20\n",
            "30/30 [==============================] - 1s 44ms/step - loss: 0.0322 - binary_accuracy: 0.9611 - val_loss: 0.0991 - val_binary_accuracy: 0.8740\n",
            "Epoch 6/20\n",
            "30/30 [==============================] - 1s 45ms/step - loss: 0.0262 - binary_accuracy: 0.9686 - val_loss: 0.1082 - val_binary_accuracy: 0.8678\n",
            "Epoch 7/20\n",
            "30/30 [==============================] - 1s 35ms/step - loss: 0.0199 - binary_accuracy: 0.9769 - val_loss: 0.1033 - val_binary_accuracy: 0.8759\n",
            "Epoch 8/20\n",
            "30/30 [==============================] - 1s 38ms/step - loss: 0.0184 - binary_accuracy: 0.9788 - val_loss: 0.1099 - val_binary_accuracy: 0.8694\n",
            "Epoch 9/20\n",
            "30/30 [==============================] - 1s 35ms/step - loss: 0.0153 - binary_accuracy: 0.9823 - val_loss: 0.1144 - val_binary_accuracy: 0.8668\n",
            "Epoch 10/20\n",
            "30/30 [==============================] - 1s 33ms/step - loss: 0.0188 - binary_accuracy: 0.9778 - val_loss: 0.1216 - val_binary_accuracy: 0.8626\n",
            "Epoch 11/20\n",
            "30/30 [==============================] - 1s 35ms/step - loss: 0.0139 - binary_accuracy: 0.9841 - val_loss: 0.1206 - val_binary_accuracy: 0.8619\n",
            "Epoch 12/20\n",
            "30/30 [==============================] - 1s 34ms/step - loss: 0.0093 - binary_accuracy: 0.9903 - val_loss: 0.1293 - val_binary_accuracy: 0.8534\n",
            "Epoch 13/20\n",
            "30/30 [==============================] - 1s 33ms/step - loss: 0.0126 - binary_accuracy: 0.9861 - val_loss: 0.1170 - val_binary_accuracy: 0.8695\n",
            "Epoch 14/20\n",
            "30/30 [==============================] - 1s 34ms/step - loss: 0.0065 - binary_accuracy: 0.9937 - val_loss: 0.1345 - val_binary_accuracy: 0.8495\n",
            "Epoch 15/20\n",
            "30/30 [==============================] - 1s 35ms/step - loss: 0.0126 - binary_accuracy: 0.9862 - val_loss: 0.1195 - val_binary_accuracy: 0.8677\n",
            "Epoch 16/20\n",
            "30/30 [==============================] - 1s 43ms/step - loss: 0.0127 - binary_accuracy: 0.9855 - val_loss: 0.1180 - val_binary_accuracy: 0.8681\n",
            "Epoch 17/20\n",
            "30/30 [==============================] - 1s 36ms/step - loss: 0.0061 - binary_accuracy: 0.9939 - val_loss: 0.1193 - val_binary_accuracy: 0.8702\n",
            "Epoch 18/20\n",
            "30/30 [==============================] - 1s 36ms/step - loss: 0.0129 - binary_accuracy: 0.9859 - val_loss: 0.1202 - val_binary_accuracy: 0.8678\n",
            "Epoch 19/20\n",
            "30/30 [==============================] - 1s 32ms/step - loss: 0.0114 - binary_accuracy: 0.9876 - val_loss: 0.1232 - val_binary_accuracy: 0.8642\n",
            "Epoch 20/20\n",
            "30/30 [==============================] - 1s 36ms/step - loss: 0.0104 - binary_accuracy: 0.9879 - val_loss: 0.1223 - val_binary_accuracy: 0.8669\n"
          ]
        },
        {
          "data": {
            "image/png": "[encoded data removed]",
            "text/plain": [
              "<Figure size 432x288 with 1 Axes>"
            ]
          },
          "metadata": {
            "needs_background": "light"
          },
          "output_type": "display_data"
        },
        {
          "data": {
            "image/png": "[encoded data removed]",
            "text/plain": [
              "<Figure size 432x288 with 1 Axes>"
            ]
          },
          "metadata": {
            "needs_background": "light"
          },
          "output_type": "display_data"
        },
        {
          "name": "stdout",
          "output_type": "stream",
          "text": [
            "Epoch 1/4\n",
            "49/49 [==============================] - 2s 30ms/step - loss: 0.1285 - accuracy: 0.8186\n",
            "Epoch 2/4\n",
            "49/49 [==============================] - 1s 27ms/step - loss: 0.0671 - accuracy: 0.9131\n",
            "Epoch 3/4\n",
            "49/49 [==============================] - 2s 31ms/step - loss: 0.0539 - accuracy: 0.9296\n",
            "Epoch 4/4\n",
            "49/49 [==============================] - 1s 25ms/step - loss: 0.0443 - accuracy: 0.9446\n",
            "782/782 [==============================] - 3s 3ms/step - loss: 0.1063 - accuracy: 0.8633\n"
          ]
        },
        {
          "data": {
            "text/plain": [
              "[0.106318898499012, 0.8632799983024597]"
            ]
          },
          "execution_count": 49,
          "metadata": {},
          "output_type": "execute_result"
        }
      ],
      "source": [
        "from keras import models\n",
        "from tensorflow.keras import layers\n",
        "\n",
        "model = models.Sequential()\n",
        "model.add(layers.Dense(64, activation='tanh', input_shape=(10000,)))\n",
        "model.add(layers.Dense(64, activation='tanh'))\n",
        "model.add(layers.Dense(1, activation='sigmoid'))\n",
        "\n",
        "model.compile(optimizer='rmsprop',\n",
        "              loss='MSE',\n",
        "              metrics=['accuracy'])\n",
        "\n",
        "from keras import optimizers\n",
        "from keras import losses\n",
        "from keras import metrics\n",
        "\n",
        "from tensorflow import keras\n",
        "from keras import optimizers\n",
        "from tensorflow.keras import optimizers\n",
        "from tensorflow.keras import optimizers\n",
        "\n",
        "model.compile(optimizer=optimizers.RMSprop(learning_rate=0.001),\n",
        "              loss = losses.MSE,\n",
        "              metrics = [metrics.binary_accuracy])\n",
        "\n",
        "x_val = x_train[:10000]\n",
        "partial_x_train = x_train[10000:]\n",
        "\n",
        "y_val = y_train[:10000]\n",
        "partial_y_train = y_train[10000:]\n",
        "\n",
        "history = model.fit(partial_x_train,\n",
        "                    partial_y_train,\n",
        "                    epochs=20,\n",
        "                    batch_size=512,\n",
        "                    validation_data=(x_val, y_val))\n",
        "\n",
        "history_dict = history.history\n",
        "history_dict.keys()\n",
        "\n",
        "# Plotting the training and validation loss\n",
        "\n",
        "import matplotlib.pyplot as plt\n",
        "%matplotlib inline\n",
        "\n",
        "loss_values = history_dict['loss']\n",
        "val_loss_values = history_dict['val_loss']\n",
        "\n",
        "epochs = range(1, len(loss_values) + 1)\n",
        "\n",
        "plt.plot(epochs, loss_values, 'bo', label=\"Training Loss\")\n",
        "plt.plot(epochs, val_loss_values, 'b', label=\"Validation Loss\")\n",
        "\n",
        "plt.title('Training and Validation Loss')\n",
        "plt.xlabel('Epochs')\n",
        "plt.ylabel('Loss Value')\n",
        "plt.legend()\n",
        "\n",
        "plt.show()\n",
        "\n",
        "\n",
        "# Plotting the training and validation accuracy\n",
        "# Training and Validation Accuracy\n",
        "\n",
        "acc_values = history_dict['binary_accuracy']\n",
        "val_acc_values = history_dict['val_binary_accuracy']\n",
        "\n",
        "epochs = range(1, len(loss_values) + 1)\n",
        "\n",
        "plt.plot(epochs, acc_values, 'ro', label=\"Training Accuracy\")\n",
        "plt.plot(epochs, val_acc_values, 'r', label=\"Validation Accuracy\")\n",
        "\n",
        "plt.title('Training and Validation Accuraccy')\n",
        "plt.xlabel('Epochs')\n",
        "plt.ylabel('Accuracy')\n",
        "plt.legend()\n",
        "\n",
        "plt.show()\n",
        "\n",
        "\n",
        "model = models.Sequential()\n",
        "model.add(layers.Dense(64, activation='tanh', input_shape=(10000,)))\n",
        "model.add(layers.Dense(64, activation='tanh'))\n",
        "model.add(layers.Dense(1, activation='sigmoid'))\n",
        "\n",
        "model.compile(optimizer='rmsprop',\n",
        "              loss='MSE',\n",
        "              metrics=['accuracy'])\n",
        "\n",
        "model.fit(x_train, y_train, epochs=4, batch_size=512)\n",
        "results = model.evaluate(x_test, y_test)\n",
        "\n",
        "results"
      ]
    },
    {
      "cell_type": "markdown",
      "source": [
        "PART 5 - DROPOUT TECHNIQUE"
      ],
      "metadata": {
        "id": "lTzy5xHq5NUk"
      },
      "id": "lTzy5xHq5NUk"
    },
    {
      "cell_type": "code",
      "execution_count": null,
      "id": "799193ac",
      "metadata": {
        "id": "799193ac",
        "outputId": "08112121-3e2f-4fc7-a270-086fc1b945ce"
      },
      "outputs": [
        {
          "name": "stdout",
          "output_type": "stream",
          "text": [
            "Epoch 1/20\n",
            "30/30 [==============================] - 3s 85ms/step - loss: 0.4720 - binary_accuracy: 0.7823 - val_loss: 0.4153 - val_binary_accuracy: 0.8168\n",
            "Epoch 2/20\n",
            "30/30 [==============================] - 1s 36ms/step - loss: 0.2579 - binary_accuracy: 0.9051 - val_loss: 0.3215 - val_binary_accuracy: 0.8697\n",
            "Epoch 3/20\n",
            "30/30 [==============================] - 1s 36ms/step - loss: 0.1909 - binary_accuracy: 0.9288 - val_loss: 0.2778 - val_binary_accuracy: 0.8893\n",
            "Epoch 4/20\n",
            "30/30 [==============================] - 1s 43ms/step - loss: 0.1484 - binary_accuracy: 0.9471 - val_loss: 0.3055 - val_binary_accuracy: 0.8828\n",
            "Epoch 5/20\n",
            "30/30 [==============================] - 1s 44ms/step - loss: 0.1010 - binary_accuracy: 0.9671 - val_loss: 0.3230 - val_binary_accuracy: 0.8818\n",
            "Epoch 6/20\n",
            "30/30 [==============================] - 1s 42ms/step - loss: 0.0811 - binary_accuracy: 0.9723 - val_loss: 0.4624 - val_binary_accuracy: 0.8538\n",
            "Epoch 7/20\n",
            "30/30 [==============================] - 1s 44ms/step - loss: 0.0647 - binary_accuracy: 0.9777 - val_loss: 0.3737 - val_binary_accuracy: 0.8820\n",
            "Epoch 8/20\n",
            "30/30 [==============================] - 1s 44ms/step - loss: 0.0499 - binary_accuracy: 0.9848 - val_loss: 0.4203 - val_binary_accuracy: 0.8753\n",
            "Epoch 9/20\n",
            "30/30 [==============================] - 1s 44ms/step - loss: 0.0168 - binary_accuracy: 0.9977 - val_loss: 0.4728 - val_binary_accuracy: 0.8752\n",
            "Epoch 10/20\n",
            "30/30 [==============================] - 1s 45ms/step - loss: 0.0461 - binary_accuracy: 0.9866 - val_loss: 0.4977 - val_binary_accuracy: 0.8762\n",
            "Epoch 11/20\n",
            "30/30 [==============================] - 1s 46ms/step - loss: 0.0064 - binary_accuracy: 0.9998 - val_loss: 0.5502 - val_binary_accuracy: 0.8756\n",
            "Epoch 12/20\n",
            "30/30 [==============================] - 1s 43ms/step - loss: 0.0365 - binary_accuracy: 0.9903 - val_loss: 0.5824 - val_binary_accuracy: 0.8753\n",
            "Epoch 13/20\n",
            "30/30 [==============================] - 1s 44ms/step - loss: 0.0026 - binary_accuracy: 0.9999 - val_loss: 0.6238 - val_binary_accuracy: 0.8742\n",
            "Epoch 14/20\n",
            "30/30 [==============================] - 1s 45ms/step - loss: 0.0018 - binary_accuracy: 0.9999 - val_loss: 1.0355 - val_binary_accuracy: 0.8310\n",
            "Epoch 15/20\n",
            "30/30 [==============================] - 1s 43ms/step - loss: 0.0334 - binary_accuracy: 0.9905 - val_loss: 0.6895 - val_binary_accuracy: 0.8733\n",
            "Epoch 16/20\n",
            "30/30 [==============================] - 1s 45ms/step - loss: 9.2668e-04 - binary_accuracy: 1.0000 - val_loss: 0.7366 - val_binary_accuracy: 0.8720\n",
            "Epoch 17/20\n",
            "30/30 [==============================] - 1s 44ms/step - loss: 8.1279e-04 - binary_accuracy: 0.9999 - val_loss: 1.5081 - val_binary_accuracy: 0.7985\n",
            "Epoch 18/20\n",
            "30/30 [==============================] - 1s 42ms/step - loss: 0.0216 - binary_accuracy: 0.9943 - val_loss: 0.7982 - val_binary_accuracy: 0.8692\n",
            "Epoch 19/20\n",
            "30/30 [==============================] - 1s 45ms/step - loss: 3.4654e-04 - binary_accuracy: 1.0000 - val_loss: 0.8377 - val_binary_accuracy: 0.8693\n",
            "Epoch 20/20\n",
            "30/30 [==============================] - 1s 44ms/step - loss: 2.1926e-04 - binary_accuracy: 1.0000 - val_loss: 0.9042 - val_binary_accuracy: 0.8692\n"
          ]
        },
        {
          "data": {
            "image/png": "[encoded data removed]",
            "text/plain": [
              "<Figure size 432x288 with 1 Axes>"
            ]
          },
          "metadata": {
            "needs_background": "light"
          },
          "output_type": "display_data"
        },
        {
          "data": {
            "image/png": "[encoded data removed]",
            "text/plain": [
              "<Figure size 432x288 with 1 Axes>"
            ]
          },
          "metadata": {
            "needs_background": "light"
          },
          "output_type": "display_data"
        },
        {
          "name": "stdout",
          "output_type": "stream",
          "text": [
            "Epoch 1/6\n",
            "49/49 [==============================] - 6s 36ms/step - loss: 0.4254 - accuracy: 0.8090\n",
            "Epoch 2/6\n",
            "49/49 [==============================] - 2s 35ms/step - loss: 0.2383 - accuracy: 0.9075\n",
            "Epoch 3/6\n",
            "49/49 [==============================] - 2s 32ms/step - loss: 0.1808 - accuracy: 0.9318\n",
            "Epoch 4/6\n",
            "49/49 [==============================] - 2s 31ms/step - loss: 0.1525 - accuracy: 0.9413\n",
            "Epoch 5/6\n",
            "49/49 [==============================] - 2s 33ms/step - loss: 0.1129 - accuracy: 0.9600\n",
            "Epoch 6/6\n",
            "49/49 [==============================] - 2s 32ms/step - loss: 0.0909 - accuracy: 0.9662\n",
            "782/782 [==============================] - 4s 4ms/step - loss: 0.3868 - accuracy: 0.8740\n"
          ]
        },
        {
          "data": {
            "text/plain": [
              "[0.3868147134780884, 0.8740000128746033]"
            ]
          },
          "execution_count": 60,
          "metadata": {},
          "output_type": "execute_result"
        }
      ],
      "source": [
        "from keras import models\n",
        "from tensorflow.keras import layers\n",
        "\n",
        "model = models.Sequential()\n",
        "model.add(layers.Dense(64, activation='relu', input_shape=(10000,)))\n",
        "layers.Dropout(0.5),\n",
        "model.add(layers.Dense(64, activation='relu'))\n",
        "layers.Dropout(0.5),\n",
        "model.add(layers.Dense(1, activation='sigmoid'))\n",
        "\n",
        "model.compile(optimizer='rmsprop',\n",
        "              loss='binary_crossentropy',\n",
        "              metrics=['accuracy'])\n",
        "\n",
        "from keras import optimizers\n",
        "from keras import losses\n",
        "from keras import metrics\n",
        "\n",
        "from tensorflow import keras\n",
        "from keras import optimizers\n",
        "from tensorflow.keras import optimizers\n",
        "from tensorflow.keras import optimizers\n",
        "\n",
        "model.compile(optimizer=optimizers.RMSprop(learning_rate=0.001),\n",
        "              loss = losses.binary_crossentropy,\n",
        "              metrics = [metrics.binary_accuracy])\n",
        "\n",
        "x_val = x_train[:10000]\n",
        "partial_x_train = x_train[10000:]\n",
        "\n",
        "y_val = y_train[:10000]\n",
        "partial_y_train = y_train[10000:]\n",
        "\n",
        "history = model.fit(partial_x_train,\n",
        "                    partial_y_train,\n",
        "                    epochs=20,\n",
        "                    batch_size=512,\n",
        "                    validation_data=(x_val, y_val))\n",
        "\n",
        "history_dict = history.history\n",
        "history_dict.keys()\n",
        "\n",
        "# Plotting the training and validation loss\n",
        "\n",
        "import matplotlib.pyplot as plt\n",
        "%matplotlib inline\n",
        "\n",
        "loss_values = history_dict['loss']\n",
        "val_loss_values = history_dict['val_loss']\n",
        "\n",
        "epochs = range(1, len(loss_values) + 1)\n",
        "\n",
        "plt.plot(epochs, loss_values, 'bo', label=\"Training Loss\")\n",
        "plt.plot(epochs, val_loss_values, 'b', label=\"Validation Loss\")\n",
        "\n",
        "plt.title('Training and Validation Loss')\n",
        "plt.xlabel('Epochs')\n",
        "plt.ylabel('Loss Value')\n",
        "plt.legend()\n",
        "\n",
        "plt.show()\n",
        "\n",
        "\n",
        "# Plotting the training and validation accuracy\n",
        "# Training and Validation Accuracy\n",
        "\n",
        "acc_values = history_dict['binary_accuracy']\n",
        "val_acc_values = history_dict['val_binary_accuracy']\n",
        "\n",
        "epochs = range(1, len(loss_values) + 1)\n",
        "\n",
        "plt.plot(epochs, acc_values, 'ro', label=\"Training Accuracy\")\n",
        "plt.plot(epochs, val_acc_values, 'r', label=\"Validation Accuracy\")\n",
        "\n",
        "plt.title('Training and Validation Accuraccy')\n",
        "plt.xlabel('Epochs')\n",
        "plt.ylabel('Accuracy')\n",
        "plt.legend()\n",
        "\n",
        "plt.show()\n",
        "\n",
        "\n",
        "model = models.Sequential()\n",
        "model.add(layers.Dense(64, activation='relu', input_shape=(10000,)))\n",
        "layers.Dropout(0.5),\n",
        "model.add(layers.Dense(64, activation='relu'))\n",
        "layers.Dropout(0.5),\n",
        "model.add(layers.Dense(1, activation='sigmoid'))\n",
        "\n",
        "model.compile(optimizer='rmsprop',\n",
        "              loss='binary_crossentropy',\n",
        "              metrics=['accuracy'])\n",
        "\n",
        "model.fit(x_train, y_train, epochs=6, batch_size=512)\n",
        "results = model.evaluate(x_test, y_test)\n",
        "\n",
        "results"
      ]
    },
    {
      "cell_type": "markdown",
      "id": "8371c0c2",
      "metadata": {
        "id": "8371c0c2"
      },
      "source": [
        "Using 2 dropout layers (p=1) with 2 hidden layers of 64 neurons in each layer"
      ]
    },
    {
      "cell_type": "code",
      "execution_count": null,
      "id": "fc5a8e67",
      "metadata": {
        "id": "fc5a8e67",
        "outputId": "ba740199-4e6a-41b5-88ce-583615059dc1"
      },
      "outputs": [
        {
          "name": "stdout",
          "output_type": "stream",
          "text": [
            "Epoch 1/20\n",
            "30/30 [==============================] - 6s 160ms/step - loss: 0.4781 - binary_accuracy: 0.7767 - val_loss: 0.3149 - val_binary_accuracy: 0.8846\n",
            "Epoch 2/20\n",
            "30/30 [==============================] - 1s 42ms/step - loss: 0.2598 - binary_accuracy: 0.9045 - val_loss: 0.2774 - val_binary_accuracy: 0.8905\n",
            "Epoch 3/20\n",
            "30/30 [==============================] - 1s 42ms/step - loss: 0.1904 - binary_accuracy: 0.9314 - val_loss: 0.2770 - val_binary_accuracy: 0.8905\n",
            "Epoch 4/20\n",
            "30/30 [==============================] - 1s 42ms/step - loss: 0.1337 - binary_accuracy: 0.9520 - val_loss: 0.4381 - val_binary_accuracy: 0.8392\n",
            "Epoch 5/20\n",
            "30/30 [==============================] - 1s 42ms/step - loss: 0.1038 - binary_accuracy: 0.9639 - val_loss: 0.3214 - val_binary_accuracy: 0.8846\n",
            "Epoch 6/20\n",
            "30/30 [==============================] - 1s 43ms/step - loss: 0.0779 - binary_accuracy: 0.9745 - val_loss: 0.3539 - val_binary_accuracy: 0.8826\n",
            "Epoch 7/20\n",
            "30/30 [==============================] - 1s 43ms/step - loss: 0.0630 - binary_accuracy: 0.9805 - val_loss: 0.3944 - val_binary_accuracy: 0.8765\n",
            "Epoch 8/20\n",
            "30/30 [==============================] - 1s 43ms/step - loss: 0.0513 - binary_accuracy: 0.9844 - val_loss: 0.4106 - val_binary_accuracy: 0.8792\n",
            "Epoch 9/20\n",
            "30/30 [==============================] - 1s 44ms/step - loss: 0.0202 - binary_accuracy: 0.9961 - val_loss: 0.8081 - val_binary_accuracy: 0.8223\n",
            "Epoch 10/20\n",
            "30/30 [==============================] - 1s 42ms/step - loss: 0.0134 - binary_accuracy: 0.9974 - val_loss: 0.5265 - val_binary_accuracy: 0.8741\n",
            "Epoch 11/20\n",
            "30/30 [==============================] - 1s 42ms/step - loss: 0.0432 - binary_accuracy: 0.9873 - val_loss: 0.5303 - val_binary_accuracy: 0.8767\n",
            "Epoch 12/20\n",
            "30/30 [==============================] - 1s 41ms/step - loss: 0.0034 - binary_accuracy: 0.9999 - val_loss: 0.5710 - val_binary_accuracy: 0.8765\n",
            "Epoch 13/20\n",
            "30/30 [==============================] - 1s 41ms/step - loss: 0.0021 - binary_accuracy: 0.9999 - val_loss: 0.6337 - val_binary_accuracy: 0.8775\n",
            "Epoch 14/20\n",
            "30/30 [==============================] - 1s 43ms/step - loss: 0.0362 - binary_accuracy: 0.9898 - val_loss: 0.6419 - val_binary_accuracy: 0.8721\n",
            "Epoch 15/20\n",
            "30/30 [==============================] - 1s 41ms/step - loss: 0.0011 - binary_accuracy: 0.9999 - val_loss: 0.6805 - val_binary_accuracy: 0.8739\n",
            "Epoch 16/20\n",
            "30/30 [==============================] - 1s 43ms/step - loss: 7.1067e-04 - binary_accuracy: 0.9999 - val_loss: 0.7389 - val_binary_accuracy: 0.8738\n",
            "Epoch 17/20\n",
            "30/30 [==============================] - 1s 46ms/step - loss: 0.0272 - binary_accuracy: 0.9927 - val_loss: 0.7628 - val_binary_accuracy: 0.8732\n",
            "Epoch 18/20\n",
            "30/30 [==============================] - 1s 46ms/step - loss: 3.5921e-04 - binary_accuracy: 1.0000 - val_loss: 0.7854 - val_binary_accuracy: 0.8729\n",
            "Epoch 19/20\n",
            "30/30 [==============================] - 1s 46ms/step - loss: 2.5606e-04 - binary_accuracy: 1.0000 - val_loss: 0.8247 - val_binary_accuracy: 0.8733\n",
            "Epoch 20/20\n",
            "30/30 [==============================] - 1s 39ms/step - loss: 1.6278e-04 - binary_accuracy: 1.0000 - val_loss: 0.8865 - val_binary_accuracy: 0.8710\n"
          ]
        },
        {
          "data": {
            "image/png": "[encoded data removed]",
            "text/plain": [
              "<Figure size 432x288 with 1 Axes>"
            ]
          },
          "metadata": {
            "needs_background": "light"
          },
          "output_type": "display_data"
        },
        {
          "data": {
            "image/png": "[encoded data removed]",
            "text/plain": [
              "<Figure size 432x288 with 1 Axes>"
            ]
          },
          "metadata": {
            "needs_background": "light"
          },
          "output_type": "display_data"
        },
        {
          "name": "stdout",
          "output_type": "stream",
          "text": [
            "Epoch 1/6\n",
            "49/49 [==============================] - 3s 31ms/step - loss: 0.4201 - accuracy: 0.8108\n",
            "Epoch 2/6\n",
            "49/49 [==============================] - 1s 28ms/step - loss: 0.2314 - accuracy: 0.9127\n",
            "Epoch 3/6\n",
            "49/49 [==============================] - 2s 32ms/step - loss: 0.1864 - accuracy: 0.9297\n",
            "Epoch 4/6\n",
            "49/49 [==============================] - 2s 31ms/step - loss: 0.1480 - accuracy: 0.9455\n",
            "Epoch 5/6\n",
            "49/49 [==============================] - 2s 31ms/step - loss: 0.1164 - accuracy: 0.9578\n",
            "Epoch 6/6\n",
            "49/49 [==============================] - 1s 30ms/step - loss: 0.0897 - accuracy: 0.9688\n",
            "782/782 [==============================] - 3s 3ms/step - loss: 0.4003 - accuracy: 0.8681\n"
          ]
        },
        {
          "data": {
            "text/plain": [
              "[0.40027105808258057, 0.8680800199508667]"
            ]
          },
          "execution_count": 65,
          "metadata": {},
          "output_type": "execute_result"
        }
      ],
      "source": [
        "from keras import models\n",
        "from tensorflow.keras import layers\n",
        "\n",
        "model = models.Sequential()\n",
        "model.add(layers.Dense(64, activation='relu', input_shape=(10000,)))\n",
        "layers.Dropout(1),\n",
        "model.add(layers.Dense(64, activation='relu'))\n",
        "layers.Dropout(1),\n",
        "model.add(layers.Dense(1, activation='sigmoid'))\n",
        "\n",
        "model.compile(optimizer='rmsprop',\n",
        "              loss='binary_crossentropy',\n",
        "              metrics=['accuracy'])\n",
        "\n",
        "from keras import optimizers\n",
        "from keras import losses\n",
        "from keras import metrics\n",
        "\n",
        "from tensorflow import keras\n",
        "from keras import optimizers\n",
        "from tensorflow.keras import optimizers\n",
        "from tensorflow.keras import optimizers\n",
        "\n",
        "model.compile(optimizer=optimizers.RMSprop(learning_rate=0.001),\n",
        "              loss = losses.binary_crossentropy,\n",
        "              metrics = [metrics.binary_accuracy])\n",
        "\n",
        "x_val = x_train[:10000]\n",
        "partial_x_train = x_train[10000:]\n",
        "\n",
        "y_val = y_train[:10000]\n",
        "partial_y_train = y_train[10000:]\n",
        "\n",
        "history = model.fit(partial_x_train,\n",
        "                    partial_y_train,\n",
        "                    epochs=20,\n",
        "                    batch_size=512,\n",
        "                    validation_data=(x_val, y_val))\n",
        "\n",
        "history_dict = history.history\n",
        "history_dict.keys()\n",
        "\n",
        "# Plotting the training and validation loss\n",
        "\n",
        "import matplotlib.pyplot as plt\n",
        "%matplotlib inline\n",
        "\n",
        "loss_values = history_dict['loss']\n",
        "val_loss_values = history_dict['val_loss']\n",
        "\n",
        "epochs = range(1, len(loss_values) + 1)\n",
        "\n",
        "plt.plot(epochs, loss_values, 'bo', label=\"Training Loss\")\n",
        "plt.plot(epochs, val_loss_values, 'b', label=\"Validation Loss\")\n",
        "\n",
        "plt.title('Training and Validation Loss')\n",
        "plt.xlabel('Epochs')\n",
        "plt.ylabel('Loss Value')\n",
        "plt.legend()\n",
        "\n",
        "plt.show()\n",
        "\n",
        "\n",
        "# Plotting the training and validation accuracy\n",
        "# Training and Validation Accuracy\n",
        "\n",
        "acc_values = history_dict['binary_accuracy']\n",
        "val_acc_values = history_dict['val_binary_accuracy']\n",
        "\n",
        "epochs = range(1, len(loss_values) + 1)\n",
        "\n",
        "plt.plot(epochs, acc_values, 'ro', label=\"Training Accuracy\")\n",
        "plt.plot(epochs, val_acc_values, 'r', label=\"Validation Accuracy\")\n",
        "\n",
        "plt.title('Training and Validation Accuraccy')\n",
        "plt.xlabel('Epochs')\n",
        "plt.ylabel('Accuracy')\n",
        "plt.legend()\n",
        "\n",
        "plt.show()\n",
        "\n",
        "\n",
        "model = models.Sequential()\n",
        "model.add(layers.Dense(64, activation='relu', input_shape=(10000,)))\n",
        "layers.Dropout(1),\n",
        "model.add(layers.Dense(64, activation='relu'))\n",
        "layers.Dropout(1),\n",
        "model.add(layers.Dense(1, activation='sigmoid'))\n",
        "\n",
        "model.compile(optimizer='rmsprop',\n",
        "              loss='binary_crossentropy',\n",
        "              metrics=['accuracy'])\n",
        "\n",
        "model.fit(x_train, y_train, epochs=6, batch_size=512)\n",
        "results = model.evaluate(x_test, y_test)\n",
        "\n",
        "results"
      ]
    }
  ],
  "metadata": {
    "kernelspec": {
      "display_name": "Python 3 (ipykernel)",
      "language": "python",
      "name": "python3"
    },
    "language_info": {
      "codemirror_mode": {
        "name": "ipython",
        "version": 3
      },
      "file_extension": ".py",
      "mimetype": "text/x-python",
      "name": "python",
      "nbconvert_exporter": "python",
      "pygments_lexer": "ipython3",
      "version": "3.10.1"
    },
    "colab": {
      "provenance": []
    }
  },
  "nbformat": 4,
  "nbformat_minor": 5
}